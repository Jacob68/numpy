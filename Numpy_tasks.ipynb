{
  "cells": [
    {
      "cell_type": "markdown",
      "metadata": {
        "id": "qnIqCVJSFgOs"
      },
      "source": [
        "# Numpy\n",
        "\n"
      ]
    },
    {
      "cell_type": "markdown",
      "metadata": {
        "id": "tem_UuIUFgPA"
      },
      "source": [
        "#### 1. Import the numpy package under the name `np` (★☆☆) \n",
        "(**hint**: import … as …)"
      ]
    },
    {
      "cell_type": "code",
      "execution_count": null,
      "metadata": {
        "collapsed": true,
        "id": "DvzC2Sw_FgPE"
      },
      "outputs": [],
      "source": [
        "import numpy as np"
      ]
    },
    {
      "cell_type": "markdown",
      "metadata": {
        "id": "fPcc98wuFgPG"
      },
      "source": [
        "#### 2. Print the numpy version and the configuration (★☆☆) \n",
        "(**hint**: np.\\_\\_version\\_\\_, np.show\\_config)"
      ]
    },
    {
      "cell_type": "code",
      "execution_count": null,
      "metadata": {
        "id": "snKgd1B6FgPJ",
        "colab": {
          "base_uri": "https://localhost:8080/"
        },
        "outputId": "458b19f0-4ac5-4449-9326-5807238b2a19"
      },
      "outputs": [
        {
          "output_type": "stream",
          "name": "stdout",
          "text": [
            "1.21.5\n",
            "blas_mkl_info:\n",
            "  NOT AVAILABLE\n",
            "blis_info:\n",
            "  NOT AVAILABLE\n",
            "openblas_info:\n",
            "    libraries = ['openblas', 'openblas']\n",
            "    library_dirs = ['/usr/local/lib']\n",
            "    language = c\n",
            "    define_macros = [('HAVE_CBLAS', None)]\n",
            "    runtime_library_dirs = ['/usr/local/lib']\n",
            "blas_opt_info:\n",
            "    libraries = ['openblas', 'openblas']\n",
            "    library_dirs = ['/usr/local/lib']\n",
            "    language = c\n",
            "    define_macros = [('HAVE_CBLAS', None)]\n",
            "    runtime_library_dirs = ['/usr/local/lib']\n",
            "lapack_mkl_info:\n",
            "  NOT AVAILABLE\n",
            "openblas_lapack_info:\n",
            "    libraries = ['openblas', 'openblas']\n",
            "    library_dirs = ['/usr/local/lib']\n",
            "    language = c\n",
            "    define_macros = [('HAVE_CBLAS', None)]\n",
            "    runtime_library_dirs = ['/usr/local/lib']\n",
            "lapack_opt_info:\n",
            "    libraries = ['openblas', 'openblas']\n",
            "    library_dirs = ['/usr/local/lib']\n",
            "    language = c\n",
            "    define_macros = [('HAVE_CBLAS', None)]\n",
            "    runtime_library_dirs = ['/usr/local/lib']\n",
            "Supported SIMD extensions in this NumPy install:\n",
            "    baseline = SSE,SSE2,SSE3\n",
            "    found = SSSE3,SSE41,POPCNT,SSE42,AVX,F16C,FMA3,AVX2\n",
            "    not found = AVX512F,AVX512CD,AVX512_KNL,AVX512_KNM,AVX512_SKX,AVX512_CLX,AVX512_CNL,AVX512_ICL\n"
          ]
        }
      ],
      "source": [
        "print(np.__version__)\n",
        "np.show_config()"
      ]
    },
    {
      "cell_type": "markdown",
      "metadata": {
        "id": "L2DhB7VwFgPK"
      },
      "source": [
        "#### 3. Create a null vector of size 10 (★☆☆) \n",
        "(**hint**: np.zeros)"
      ]
    },
    {
      "cell_type": "code",
      "execution_count": null,
      "metadata": {
        "id": "gy-zCQR-FgPM",
        "colab": {
          "base_uri": "https://localhost:8080/"
        },
        "outputId": "19753aba-a083-4827-d670-76aaa7228d64"
      },
      "outputs": [
        {
          "output_type": "stream",
          "name": "stdout",
          "text": [
            "[0. 0. 0. 0. 0. 0. 0. 0. 0. 0.]\n"
          ]
        }
      ],
      "source": [
        "x=np.zeros(10)\n",
        "print(x)"
      ]
    },
    {
      "cell_type": "markdown",
      "metadata": {
        "id": "hayLWDq8FgPO"
      },
      "source": [
        "#### 4.  How to find the memory size of any array (★☆☆) \n",
        "(**hint**: size, itemsize)"
      ]
    },
    {
      "cell_type": "code",
      "execution_count": null,
      "metadata": {
        "id": "cW1yrTexFgPT",
        "colab": {
          "base_uri": "https://localhost:8080/"
        },
        "outputId": "c8a3ebb6-2f2b-431a-8938-a988b6d51f15"
      },
      "outputs": [
        {
          "output_type": "stream",
          "name": "stdout",
          "text": [
            "400 bytes\n"
          ]
        }
      ],
      "source": [
        "x=np.zeros((10,5))\n",
        "print(\"%d bytes\" % (x.size * x.itemsize))"
      ]
    },
    {
      "cell_type": "markdown",
      "metadata": {
        "id": "RNVtKfOLFgPZ"
      },
      "source": [
        "#### 5.  How to get the documentation of the numpy add function from the command line? (★☆☆) \n",
        "(**hint**: np.info)"
      ]
    },
    {
      "cell_type": "code",
      "execution_count": null,
      "metadata": {
        "collapsed": true,
        "id": "eZBreb1OFgPc",
        "colab": {
          "base_uri": "https://localhost:8080/"
        },
        "outputId": "1d04a6fa-d3fd-4f95-a5d5-84ba52b5617c"
      },
      "outputs": [
        {
          "output_type": "stream",
          "name": "stderr",
          "text": [
            "ERROR:root:File `'`python.py'` not found.\n"
          ]
        }
      ],
      "source": [
        "%run `python -c \"import numpy; http://numpy.info(numpy.add)\"`"
      ]
    },
    {
      "cell_type": "markdown",
      "metadata": {
        "id": "pEHBvmdjFgPe"
      },
      "source": [
        "#### 6.  Create a null vector of size 10 but the fifth value which is 1 (★☆☆) \n",
        "(**hint**: array\\[4\\])"
      ]
    },
    {
      "cell_type": "code",
      "execution_count": null,
      "metadata": {
        "id": "GQfQC3k-FgPi",
        "colab": {
          "base_uri": "https://localhost:8080/"
        },
        "outputId": "d43875ec-3072-463b-d4dd-1c09a1126573"
      },
      "outputs": [
        {
          "output_type": "stream",
          "name": "stdout",
          "text": [
            "[0. 0. 0. 0. 1. 0. 0. 0. 0. 0.]\n"
          ]
        }
      ],
      "source": [
        "array=np.zeros(10)\n",
        "array[4]=1\n",
        "print(array)"
      ]
    },
    {
      "cell_type": "markdown",
      "metadata": {
        "id": "W8stsBxgFgPj"
      },
      "source": [
        "#### 7.  Create a vector with values ranging from 10 to 49 (★☆☆) \n",
        "(**hint**: np.arange)"
      ]
    },
    {
      "cell_type": "code",
      "execution_count": null,
      "metadata": {
        "id": "mpsVJLLJFgPl",
        "colab": {
          "base_uri": "https://localhost:8080/"
        },
        "outputId": "3364d351-7562-4b4e-c784-baa9ccac6f03"
      },
      "outputs": [
        {
          "output_type": "stream",
          "name": "stdout",
          "text": [
            "[10 11 12 13 14 15 16 17 18 19 20 21 22 23 24 25 26 27 28 29 30 31 32 33 34 35 36 37 38 39 40 41 42 43 44 45 46 47 48 49]\n"
          ]
        }
      ],
      "source": [
        "aray=np.arange(10,50)\n",
        "print(aray)"
      ]
    },
    {
      "cell_type": "markdown",
      "metadata": {
        "id": "vTrq06CAFgPm"
      },
      "source": [
        "#### 8.  Reverse a vector (first element becomes last) (★☆☆) \n",
        "(**hint**: array\\[::-1\\])"
      ]
    },
    {
      "cell_type": "code",
      "execution_count": null,
      "metadata": {
        "id": "x1jHtF1HFgPr",
        "colab": {
          "base_uri": "https://localhost:8080/"
        },
        "outputId": "c49c98c3-e3d2-4294-b83b-1f03b9f3fc64"
      },
      "outputs": [
        {
          "output_type": "stream",
          "name": "stdout",
          "text": [
            "[24 23 22 21 20 19 18 17 16 15 14 13 12 11 10  9  8  7  6  5  4  3  2  1]\n"
          ]
        }
      ],
      "source": [
        "aray=np.arange(1,25)\n",
        "aray_rev=aray[::-1]\n",
        "print(aray_rev)"
      ]
    },
    {
      "cell_type": "markdown",
      "metadata": {
        "id": "8eX1Pmd6FgPs"
      },
      "source": [
        "#### 9.  Create a 3x3 matrix with values ranging from 0 to 8 (★☆☆) \n",
        "(**hint**: reshape)"
      ]
    },
    {
      "cell_type": "code",
      "execution_count": null,
      "metadata": {
        "id": "GDDGTkkLFgPv",
        "colab": {
          "base_uri": "https://localhost:8080/"
        },
        "outputId": "452dd657-c96b-40c5-e987-e2453a14039c"
      },
      "outputs": [
        {
          "output_type": "stream",
          "name": "stdout",
          "text": [
            "[[1 2 3]\n",
            " [4 5 6]\n",
            " [7 8 9]]\n"
          ]
        }
      ],
      "source": [
        "matrix=np.arange(1,10).reshape(3,3)\n",
        "print(matrix)"
      ]
    },
    {
      "cell_type": "markdown",
      "metadata": {
        "id": "feiuL_orFgPw"
      },
      "source": [
        "#### 10. Find indices of non-zero elements from \\[1,2,0,0,4,0\\] (★☆☆) \n",
        "(**hint**: np.nonzero)"
      ]
    },
    {
      "cell_type": "code",
      "execution_count": null,
      "metadata": {
        "id": "7qIFqx5hFgPy",
        "colab": {
          "base_uri": "https://localhost:8080/"
        },
        "outputId": "65f87671-14ac-439a-9a9e-a9422f1519e3"
      },
      "outputs": [
        {
          "output_type": "stream",
          "name": "stdout",
          "text": [
            "(array([0, 1, 4]),)\n"
          ]
        }
      ],
      "source": [
        "nonz=np.nonzero([1,2,0,0,4,0])\n",
        "print(nonz)"
      ]
    },
    {
      "cell_type": "markdown",
      "metadata": {
        "id": "2EKlPSdHFgPz"
      },
      "source": [
        "#### 11. Create a 3x3 identity matrix (★☆☆) \n",
        "(**hint**: np.eye)"
      ]
    },
    {
      "cell_type": "code",
      "execution_count": null,
      "metadata": {
        "id": "zTejLSDnFgPz",
        "colab": {
          "base_uri": "https://localhost:8080/"
        },
        "outputId": "b5b1d2c4-9956-4afd-be7d-aa4a044c8dea"
      },
      "outputs": [
        {
          "output_type": "stream",
          "name": "stdout",
          "text": [
            "[[1. 0. 0.]\n",
            " [0. 1. 0.]\n",
            " [0. 0. 1.]]\n"
          ]
        }
      ],
      "source": [
        "imatrix=np.eye(3)\n",
        "print(imatrix)"
      ]
    },
    {
      "cell_type": "markdown",
      "metadata": {
        "id": "dWxhtlJUFgP2"
      },
      "source": [
        "#### 12. Create a 3x3x3 array with random values (★☆☆) \n",
        "(**hint**: np.random.random)"
      ]
    },
    {
      "cell_type": "code",
      "execution_count": null,
      "metadata": {
        "collapsed": true,
        "id": "kudzxgq-FgP4",
        "colab": {
          "base_uri": "https://localhost:8080/"
        },
        "outputId": "ae8f8471-de8e-4ab7-85f5-abf8ad4a8e41"
      },
      "outputs": [
        {
          "output_type": "stream",
          "name": "stdout",
          "text": [
            "[[[0.88770661 0.87670251 0.9610014 ]\n",
            "  [0.25979792 0.47723755 0.79904614]\n",
            "  [0.89100147 0.9960736  0.02129521]]\n",
            "\n",
            " [[0.43869163 0.71926796 0.57765187]\n",
            "  [0.14374794 0.7461921  0.86972705]\n",
            "  [0.0074718  0.83723779 0.96748279]]\n",
            "\n",
            " [[0.07538666 0.10025454 0.09332203]\n",
            "  [0.7069443  0.8175622  0.1932648 ]\n",
            "  [0.90956666 0.9401391  0.84481209]]]\n"
          ]
        }
      ],
      "source": [
        "rand_matrix=np.random.random((3,3,3))\n",
        "print(rand_matrix)"
      ]
    },
    {
      "cell_type": "markdown",
      "metadata": {
        "id": "ycwQdTCMFgP4"
      },
      "source": [
        "#### 13. Create a 10x10 array with random values and find the minimum and maximum values (★☆☆) \n",
        "(**hint**: min, max)"
      ]
    },
    {
      "cell_type": "code",
      "execution_count": null,
      "metadata": {
        "id": "knaLyAsEFgP4",
        "colab": {
          "base_uri": "https://localhost:8080/"
        },
        "outputId": "31df53f5-8e68-418d-9461-bb1955892bb7"
      },
      "outputs": [
        {
          "output_type": "stream",
          "name": "stdout",
          "text": [
            "minimum is: 0.017000603037800155 \n",
            "maximum is: 0.9671553353602892\n"
          ]
        }
      ],
      "source": [
        "rmatrix=np.random.random((10,10))\n",
        "mini=rmatrix.min()\n",
        "maxi=rmatrix.max()\n",
        "print(\"minimum is:\",mini,\"\\nmaximum is:\",maxi)"
      ]
    },
    {
      "cell_type": "markdown",
      "metadata": {
        "id": "QKYSV0H9FgP5"
      },
      "source": [
        "#### 14. Create a random vector of size 30 and find the mean value (★☆☆) \n",
        "(**hint**: mean)"
      ]
    },
    {
      "cell_type": "code",
      "execution_count": null,
      "metadata": {
        "id": "DFhN1kJKFgP5",
        "colab": {
          "base_uri": "https://localhost:8080/"
        },
        "outputId": "5852e2f6-b29b-4cd3-c9a2-14c08a6b766b"
      },
      "outputs": [
        {
          "output_type": "stream",
          "name": "stdout",
          "text": [
            "mean is: 0.543960957279926\n"
          ]
        }
      ],
      "source": [
        "aray=np.random.random(30)\n",
        "aray_mean=aray.mean()\n",
        "print(\"mean is:\",aray_mean)"
      ]
    },
    {
      "cell_type": "markdown",
      "metadata": {
        "id": "rivP7ELKFgP6"
      },
      "source": [
        "#### 15. Create a 2d array with 1 on the border and 0 inside (★☆☆) \n",
        "(**hint**: array\\[1:-1, 1:-1\\])"
      ]
    },
    {
      "cell_type": "code",
      "execution_count": null,
      "metadata": {
        "id": "vipsFYOlFgP6",
        "colab": {
          "base_uri": "https://localhost:8080/"
        },
        "outputId": "51595f84-f627-4f37-d9cf-aa6378e8d12c"
      },
      "outputs": [
        {
          "output_type": "stream",
          "name": "stdout",
          "text": [
            "[[1. 1. 1. 1. 1.]\n",
            " [1. 0. 0. 0. 1.]\n",
            " [1. 0. 0. 0. 1.]\n",
            " [1. 0. 0. 0. 1.]\n",
            " [1. 1. 1. 1. 1.]]\n"
          ]
        }
      ],
      "source": [
        "ones=np.ones((5,5))\n",
        "ones[1:-1,1:-1]=0\n",
        "print(ones)"
      ]
    },
    {
      "cell_type": "markdown",
      "metadata": {
        "id": "JjarJ3_dFgP7"
      },
      "source": [
        "#### 16. How to add a border (filled with 0's) around an existing array? (★☆☆) \n",
        "(**hint**: np.pad)"
      ]
    },
    {
      "cell_type": "code",
      "execution_count": null,
      "metadata": {
        "id": "gTdfiIJmFgP9",
        "colab": {
          "base_uri": "https://localhost:8080/"
        },
        "outputId": "68bf03b8-515a-40f2-9093-3169d59ada8e"
      },
      "outputs": [
        {
          "output_type": "stream",
          "name": "stdout",
          "text": [
            "[[0. 0. 0. 0. 0. 0. 0.]\n",
            " [0. 1. 1. 1. 1. 1. 0.]\n",
            " [0. 1. 1. 1. 1. 1. 0.]\n",
            " [0. 1. 1. 1. 1. 1. 0.]\n",
            " [0. 1. 1. 1. 1. 1. 0.]\n",
            " [0. 1. 1. 1. 1. 1. 0.]\n",
            " [0. 0. 0. 0. 0. 0. 0.]]\n"
          ]
        }
      ],
      "source": [
        "aray = np.ones((5,5))\n",
        "aray = np.pad(aray, pad_width=1, mode='constant', constant_values=0)\n",
        "print(aray)"
      ]
    },
    {
      "cell_type": "markdown",
      "metadata": {
        "id": "sRnHEAlEFgP_"
      },
      "source": [
        "#### 17. What is the result of the following expression? (★☆☆) \n",
        "(**hint**: NaN = not a number, inf = infinity)"
      ]
    },
    {
      "cell_type": "markdown",
      "metadata": {
        "id": "bPGYsj_6FgQA"
      },
      "source": [
        "```python\n",
        "0 * np.nan\n",
        "np.nan == np.nan\n",
        "np.inf > np.nan\n",
        "np.nan - np.nan\n",
        "0.3 == 3 * 0.1\n",
        "```"
      ]
    },
    {
      "cell_type": "code",
      "execution_count": null,
      "metadata": {
        "id": "nueayJFIFgQB",
        "colab": {
          "base_uri": "https://localhost:8080/"
        },
        "outputId": "12328b8c-4671-4c07-baab-9c82056ff0c2"
      },
      "outputs": [
        {
          "output_type": "stream",
          "name": "stdout",
          "text": [
            "nan\n",
            "False\n",
            "False\n",
            "nan\n",
            "False\n"
          ]
        }
      ],
      "source": [
        "print(0 * np.nan)\n",
        "print(np.nan == np.nan)\n",
        "print(np.inf > np.nan)\n",
        "print(np.nan - np.nan)\n",
        "print(0.3 == 3 * 0.1)"
      ]
    },
    {
      "cell_type": "markdown",
      "metadata": {
        "id": "4PJYfb_SFgQB"
      },
      "source": [
        "#### 18. Create a 5x5 matrix with values 1,2,3,4 just below the diagonal (★☆☆) \n",
        "(**hint**: np.diag)"
      ]
    },
    {
      "cell_type": "code",
      "execution_count": null,
      "metadata": {
        "id": "OEj9FbYyFgQC",
        "colab": {
          "base_uri": "https://localhost:8080/"
        },
        "outputId": "1b321252-e95d-4631-a589-9ab58ce53973"
      },
      "outputs": [
        {
          "output_type": "stream",
          "name": "stdout",
          "text": [
            "[[0 0 0 0 0]\n",
            " [1 0 0 0 0]\n",
            " [0 2 0 0 0]\n",
            " [0 0 3 0 0]\n",
            " [0 0 0 4 0]]\n"
          ]
        }
      ],
      "source": [
        "matrix=np.diag(np.arange(1,5),k=-1)\n",
        "print(matrix)"
      ]
    },
    {
      "cell_type": "markdown",
      "metadata": {
        "id": "2vxrXqs_FgQC"
      },
      "source": [
        "#### 19. Create a 8x8 matrix and fill it with a checkerboard pattern (★☆☆) \n",
        "(**hint**: array\\[::2\\])"
      ]
    },
    {
      "cell_type": "code",
      "execution_count": null,
      "metadata": {
        "id": "C-b2U6SNFgQD",
        "colab": {
          "base_uri": "https://localhost:8080/"
        },
        "outputId": "6cb3944d-9a6e-418b-b65e-a440783018ab"
      },
      "outputs": [
        {
          "output_type": "stream",
          "name": "stdout",
          "text": [
            "[[0 1 0 1 0 1 0 1]\n",
            " [1 0 1 0 1 0 1 0]\n",
            " [0 1 0 1 0 1 0 1]\n",
            " [1 0 1 0 1 0 1 0]\n",
            " [0 1 0 1 0 1 0 1]\n",
            " [1 0 1 0 1 0 1 0]\n",
            " [0 1 0 1 0 1 0 1]\n",
            " [1 0 1 0 1 0 1 0]]\n"
          ]
        }
      ],
      "source": [
        "checker=np.zeros((8,8),dtype=int)\n",
        "checker[1::2,::2]=1\n",
        "checker[::2,1::2]=1\n",
        "print(checker)"
      ]
    },
    {
      "cell_type": "markdown",
      "metadata": {
        "id": "cngXJJZ7FgQD"
      },
      "source": [
        "#### 20. Consider a (6,7,8) shape array, what is the index (x,y,z) of the 100th element? \n",
        "(**hint**: np.unravel_index)"
      ]
    },
    {
      "cell_type": "code",
      "execution_count": null,
      "metadata": {
        "id": "Jt-qkUPhFgQE",
        "colab": {
          "base_uri": "https://localhost:8080/"
        },
        "outputId": "a83b63b2-f543-48b9-99bf-4b7af0642e94"
      },
      "outputs": [
        {
          "output_type": "stream",
          "name": "stdout",
          "text": [
            "(1, 5, 4)\n"
          ]
        }
      ],
      "source": [
        "print(np.unravel_index(100,(6,7,8)))"
      ]
    },
    {
      "cell_type": "markdown",
      "metadata": {
        "id": "cXh3Dk6fFgQF"
      },
      "source": [
        "#### 21. Create a checkerboard 8x8 matrix using the tile function (★☆☆) \n",
        "(**hint**: np.tile)"
      ]
    },
    {
      "cell_type": "code",
      "execution_count": null,
      "metadata": {
        "id": "HFTCe1gyFgQG",
        "colab": {
          "base_uri": "https://localhost:8080/"
        },
        "outputId": "67147ec6-afac-4ede-a25b-b71129031a8d"
      },
      "outputs": [
        {
          "output_type": "stream",
          "name": "stdout",
          "text": [
            "[[0 1 0 1 0 1 0 1]\n",
            " [1 0 1 0 1 0 1 0]\n",
            " [0 1 0 1 0 1 0 1]\n",
            " [1 0 1 0 1 0 1 0]\n",
            " [0 1 0 1 0 1 0 1]\n",
            " [1 0 1 0 1 0 1 0]\n",
            " [0 1 0 1 0 1 0 1]\n",
            " [1 0 1 0 1 0 1 0]]\n"
          ]
        }
      ],
      "source": [
        "checker=np.tile(np.array([[0,1],[1,0]]),(4,4))\n",
        "print(checker)"
      ]
    },
    {
      "cell_type": "markdown",
      "metadata": {
        "id": "UAR7MHWGFgQH"
      },
      "source": [
        "#### 22. Normalize a 5x5 random matrix (★☆☆) \n",
        "(**hint**: (x - min) / (max - min))"
      ]
    },
    {
      "cell_type": "code",
      "execution_count": null,
      "metadata": {
        "id": "sNP2Ll9oFgQJ",
        "colab": {
          "base_uri": "https://localhost:8080/"
        },
        "outputId": "4e41b794-ba9b-46cb-b76c-56024dc74ee2"
      },
      "outputs": [
        {
          "output_type": "stream",
          "name": "stdout",
          "text": [
            "[[0.16285709 0.39481106 0.75336563 0.68332209 1.        ]\n",
            " [0.78046693 0.68418641 0.53583341 0.25784038 0.53967221]\n",
            " [0.0797338  0.93043352 0.141641   0.72498549 0.65177535]\n",
            " [0.43895224 0.7228987  0.29679226 0.56549869 0.        ]\n",
            " [0.76704235 0.92115154 0.36694325 0.68385943 0.34723126]]\n"
          ]
        }
      ],
      "source": [
        "x=np.random.random((5,5))\n",
        "maxi,mini=x.max(),x.min()\n",
        "x=(x-mini)/(maxi-mini)\n",
        "print(x)"
      ]
    },
    {
      "cell_type": "markdown",
      "metadata": {
        "id": "hPsG5Sq7FgQJ"
      },
      "source": [
        "#### 23. Create a custom dtype that describes a color as four unsigned bytes (RGBA) (★☆☆) \n",
        "(**hint**: np.dtype)"
      ]
    },
    {
      "cell_type": "code",
      "execution_count": null,
      "metadata": {
        "collapsed": true,
        "id": "fld3IxjEFgQJ",
        "colab": {
          "base_uri": "https://localhost:8080/"
        },
        "outputId": "280b4ce1-80d9-436f-e1eb-67ecac0e72d2"
      },
      "outputs": [
        {
          "output_type": "stream",
          "name": "stderr",
          "text": [
            "/usr/local/lib/python3.7/dist-packages/ipykernel_launcher.py:4: FutureWarning: Passing (type, 1) or '1type' as a synonym of type is deprecated; in a future version of numpy, it will be understood as (type, (1,)) / '(1,)type'.\n",
            "  after removing the cwd from sys.path.\n"
          ]
        }
      ],
      "source": [
        "new_color=np.dtype([(\"r\",np.ubyte,1),\n",
        "                    (\"g\",np.ubyte,1),\n",
        "                    (\"b\",np.ubyte,1),\n",
        "                    (\"a\",np.ubyte,1)])"
      ]
    },
    {
      "cell_type": "markdown",
      "metadata": {
        "id": "W0gfejq2FgQK"
      },
      "source": [
        "#### 24. Multiply a 5x3 matrix by a 3x2 matrix (real matrix product) (★☆☆) \n",
        "(**hint**: np.dot | @)"
      ]
    },
    {
      "cell_type": "code",
      "execution_count": null,
      "metadata": {
        "id": "IeVLlrR4FgQK",
        "colab": {
          "base_uri": "https://localhost:8080/"
        },
        "outputId": "fac313f6-dc57-4291-dab9-dead4a585e3c"
      },
      "outputs": [
        {
          "output_type": "stream",
          "name": "stdout",
          "text": [
            "[[3. 3.]\n",
            " [3. 3.]\n",
            " [3. 3.]\n",
            " [3. 3.]\n",
            " [3. 3.]]\n"
          ]
        }
      ],
      "source": [
        "x=np.dot(np.ones((5,3)),np.ones((3,2)))\n",
        "print(x)"
      ]
    },
    {
      "cell_type": "markdown",
      "metadata": {
        "id": "YD4S-on-FgQK"
      },
      "source": [
        "#### 25. Given a 1D array, negate all elements which are between 3 and 8, in place. (★☆☆) \n",
        "(**hint**: >, <=)"
      ]
    },
    {
      "cell_type": "code",
      "execution_count": null,
      "metadata": {
        "id": "fcgjhYeBFgQL",
        "colab": {
          "base_uri": "https://localhost:8080/"
        },
        "outputId": "96ba7da2-1bf1-4484-9b3e-950a37aefe00"
      },
      "outputs": [
        {
          "output_type": "stream",
          "name": "stdout",
          "text": [
            "[ 0  1  2  3 -4 -5 -6 -7 -8  9 10]\n"
          ]
        }
      ],
      "source": [
        "x=np.arange(11)\n",
        "x[(3<x)&(x<=8)] *= -1\n",
        "print(x)"
      ]
    },
    {
      "cell_type": "markdown",
      "metadata": {
        "id": "Jsp4Mck8FgQL"
      },
      "source": [
        "#### 26. What is the output of the following script? (★☆☆) \n",
        "(**hint**: np.sum)"
      ]
    },
    {
      "cell_type": "markdown",
      "metadata": {
        "id": "PhBrVm1vFgQL"
      },
      "source": [
        "```python\n",
        "# Author: Jake VanderPlas\n",
        "\n",
        "print(sum(range(5),-1))\n",
        "from numpy import *\n",
        "print(sum(range(5),-1))\n",
        "```"
      ]
    },
    {
      "cell_type": "code",
      "execution_count": null,
      "metadata": {
        "id": "IOAm8N6pFgQM",
        "colab": {
          "base_uri": "https://localhost:8080/"
        },
        "outputId": "6eceaf32-e844-4c50-8b9a-387ccb6934a7"
      },
      "outputs": [
        {
          "output_type": "stream",
          "name": "stdout",
          "text": [
            "10\n"
          ]
        }
      ],
      "source": [
        "from numpy import *\n",
        "print(sum(range(5),-1))"
      ]
    },
    {
      "cell_type": "markdown",
      "metadata": {
        "id": "ZzeC6CWfFgQM"
      },
      "source": [
        "#### 27. Consider an integer vector Z, which of these expressions are legal? (★☆☆)"
      ]
    },
    {
      "cell_type": "markdown",
      "metadata": {
        "id": "rsYc80m6FgQM"
      },
      "source": [
        "```python\n",
        "Z**Z\n",
        "2 << Z >> 2\n",
        "Z <- Z\n",
        "1j*Z\n",
        "Z/1/1\n",
        "Z<Z>Z\n",
        "```"
      ]
    },
    {
      "cell_type": "code",
      "execution_count": null,
      "metadata": {
        "id": "QIZKTmxbFgQN",
        "colab": {
          "base_uri": "https://localhost:8080/"
        },
        "outputId": "826271dc-4e4f-4204-9b12-0820003d841b"
      },
      "outputs": [
        {
          "output_type": "execute_result",
          "data": {
            "text/plain": [
              "array([1., 1., 1., 1.])"
            ]
          },
          "metadata": {},
          "execution_count": 383
        }
      ],
      "source": [
        "z=np.ones(4)\n",
        "z**z\n",
        "z <- z\n",
        "1j*z\n",
        "z/1/1"
      ]
    },
    {
      "cell_type": "markdown",
      "metadata": {
        "id": "Sr7EZQjzFgQO"
      },
      "source": [
        "#### 28. What are the result of the following expressions?"
      ]
    },
    {
      "cell_type": "markdown",
      "metadata": {
        "id": "V4RqgwmuFgQP"
      },
      "source": [
        "```python\n",
        "np.array(0) / np.array(0)\n",
        "np.array(0) // np.array(0)\n",
        "np.array([np.nan]).astype(int).astype(float)\n",
        "```"
      ]
    },
    {
      "cell_type": "code",
      "execution_count": null,
      "metadata": {
        "id": "O9mZhfvZFgQQ",
        "colab": {
          "base_uri": "https://localhost:8080/"
        },
        "outputId": "6868afd1-6d81-4051-9db1-4ffa8a97595b"
      },
      "outputs": [
        {
          "output_type": "stream",
          "name": "stdout",
          "text": [
            "nan\n",
            "0\n",
            "[-9.22337204e+18]\n"
          ]
        },
        {
          "output_type": "stream",
          "name": "stderr",
          "text": [
            "/usr/local/lib/python3.7/dist-packages/ipykernel_launcher.py:1: RuntimeWarning: invalid value encountered in true_divide\n",
            "  \"\"\"Entry point for launching an IPython kernel.\n",
            "/usr/local/lib/python3.7/dist-packages/ipykernel_launcher.py:2: RuntimeWarning: divide by zero encountered in floor_divide\n",
            "  \n"
          ]
        }
      ],
      "source": [
        "print(np.array(0) / np.array(0))\n",
        "print(np.array(0) // np.array(0))\n",
        "print(np.array([np.nan]).astype(int).astype(float))"
      ]
    },
    {
      "cell_type": "markdown",
      "metadata": {
        "id": "GHoxqIyYFgQQ"
      },
      "source": [
        "#### 29. How to round away from zero a float array ? (★☆☆) \n",
        "(**hint**: np.uniform, np.copysign, np.ceil, np.abs)"
      ]
    },
    {
      "cell_type": "code",
      "execution_count": null,
      "metadata": {
        "id": "ntua6UoIFgQR",
        "colab": {
          "base_uri": "https://localhost:8080/"
        },
        "outputId": "a950bda0-5b88-4b7f-90a2-d97cefbe8888"
      },
      "outputs": [
        {
          "output_type": "stream",
          "name": "stdout",
          "text": [
            "[  8.  -8. -10.  -5.   6.   3.  -1.   8.  -5.   9.]\n"
          ]
        }
      ],
      "source": [
        "aray = np.random.uniform(-10,+10,10)\n",
        "print (np.copysign(np.ceil(np.abs(aray)), aray))"
      ]
    },
    {
      "cell_type": "markdown",
      "metadata": {
        "id": "moPPJpx8FgQS"
      },
      "source": [
        "#### 30. How to find common values between two arrays? (★☆☆) \n",
        "(**hint**: np.intersect1d)"
      ]
    },
    {
      "cell_type": "code",
      "execution_count": null,
      "metadata": {
        "id": "96LRqNZeFgQS",
        "colab": {
          "base_uri": "https://localhost:8080/"
        },
        "outputId": "99aace59-3f97-40b7-d4e2-82c215bcbc87"
      },
      "outputs": [
        {
          "output_type": "stream",
          "name": "stdout",
          "text": [
            "[0 3 4 5 8 9]\n"
          ]
        }
      ],
      "source": [
        "aray1 = np.random.randint(0,10,10)\n",
        "aray2 = np.random.randint(0,10,10)\n",
        "print(np.intersect1d(aray1,aray2))"
      ]
    },
    {
      "cell_type": "markdown",
      "metadata": {
        "id": "rnCBekaJFgQT"
      },
      "source": [
        "#### 31. How to ignore all numpy warnings (not recommended)? (★☆☆) \n",
        "(**hint**: np.seterr, np.errstate)"
      ]
    },
    {
      "cell_type": "code",
      "execution_count": null,
      "metadata": {
        "id": "ZcWpEfgPFgQT"
      },
      "outputs": [],
      "source": [
        "with np.errstate(divide='ignore'):\n",
        "    aray = np.ones(1) / 0"
      ]
    },
    {
      "cell_type": "markdown",
      "metadata": {
        "id": "dMLJb9__FgQU"
      },
      "source": [
        "#### 32. Is the following expressions true? (★☆☆) \n",
        "(**hint**: imaginary number)"
      ]
    },
    {
      "cell_type": "markdown",
      "metadata": {
        "id": "x0dzGmK2FgQU"
      },
      "source": [
        "```python\n",
        "np.sqrt(-1) == np.emath.sqrt(-1)\n",
        "```"
      ]
    },
    {
      "cell_type": "code",
      "execution_count": null,
      "metadata": {
        "id": "NVXLsQgXFgQU",
        "colab": {
          "base_uri": "https://localhost:8080/"
        },
        "outputId": "9ef8ffa3-9ca2-486e-9730-4e2d28be75c4"
      },
      "outputs": [
        {
          "output_type": "stream",
          "name": "stderr",
          "text": [
            "/usr/local/lib/python3.7/dist-packages/ipykernel_launcher.py:1: RuntimeWarning: invalid value encountered in sqrt\n",
            "  \"\"\"Entry point for launching an IPython kernel.\n"
          ]
        },
        {
          "output_type": "execute_result",
          "data": {
            "text/plain": [
              "False"
            ]
          },
          "metadata": {},
          "execution_count": 388
        }
      ],
      "source": [
        "np.sqrt(-1) == np.emath.sqrt(-1)"
      ]
    },
    {
      "cell_type": "markdown",
      "metadata": {
        "id": "kv4Q_HNtFgQV"
      },
      "source": [
        "#### 33. How to get the dates of yesterday, today and tomorrow? (★☆☆) \n",
        "(**hint**: np.datetime64, np.timedelta64)"
      ]
    },
    {
      "cell_type": "code",
      "execution_count": null,
      "metadata": {
        "collapsed": true,
        "id": "EjoJm_ryFgQV",
        "colab": {
          "base_uri": "https://localhost:8080/"
        },
        "outputId": "fec55557-134c-4c0e-fa79-4b9bf9ad4815"
      },
      "outputs": [
        {
          "output_type": "stream",
          "name": "stdout",
          "text": [
            "\n",
            " 2022-03-23 \n",
            " 2022-03-24 \n",
            " 2022-03-25\n"
          ]
        }
      ],
      "source": [
        "yesterday = np.datetime64('today', 'D') - np.timedelta64(1, 'D')\n",
        "today     = np.datetime64('today', 'D')\n",
        "tomorrow  = np.datetime64('today', 'D') + np.timedelta64(1, 'D')\n",
        "print('\\n',yesterday,\"\\n\",today,'\\n',tomorrow)\n"
      ]
    },
    {
      "cell_type": "markdown",
      "metadata": {
        "id": "52iDIcO9FgQW"
      },
      "source": [
        "#### 34. How to get all the dates corresponding to the month of July 2016? (★★☆) \n",
        "(**hint**: np.arange(dtype=datetime64\\['D'\\]))"
      ]
    },
    {
      "cell_type": "code",
      "execution_count": null,
      "metadata": {
        "id": "j8fg6eGXFgQW",
        "colab": {
          "base_uri": "https://localhost:8080/"
        },
        "outputId": "de8c280b-c6ab-4c27-826a-3a657d1dcb6d"
      },
      "outputs": [
        {
          "output_type": "stream",
          "name": "stdout",
          "text": [
            "['2016-07-01' '2016-07-02' '2016-07-03' '2016-07-04' '2016-07-05' '2016-07-06' '2016-07-07' '2016-07-08' '2016-07-09' '2016-07-10' '2016-07-11' '2016-07-12' '2016-07-13' '2016-07-14' '2016-07-15' '2016-07-16' '2016-07-17' '2016-07-18' '2016-07-19' '2016-07-20' '2016-07-21' '2016-07-22' '2016-07-23' '2016-07-24' '2016-07-25' '2016-07-26' '2016-07-27' '2016-07-28' '2016-07-29' '2016-07-30' '2016-07-31']\n"
          ]
        }
      ],
      "source": [
        "dates = np.arange('2016-07', '2016-08', dtype='datetime64[D]')\n",
        "print(dates)"
      ]
    },
    {
      "cell_type": "markdown",
      "metadata": {
        "id": "E9Fp__AyFgQX"
      },
      "source": [
        "#### 35. How to compute ((A+B)\\*(-A/2)) in place (without copy)? (★★☆) \n",
        "(**hint**: np.add(out=), np.negative(out=), np.multiply(out=), np.divide(out=))"
      ]
    },
    {
      "cell_type": "code",
      "execution_count": null,
      "metadata": {
        "id": "yoSxn3uiFgQY",
        "colab": {
          "base_uri": "https://localhost:8080/"
        },
        "outputId": "1661d03d-7e74-4e28-f5b3-c93dce8a9f4d"
      },
      "outputs": [
        {
          "output_type": "execute_result",
          "data": {
            "text/plain": [
              "array([-1.5, -1.5, -1.5])"
            ]
          },
          "metadata": {},
          "execution_count": 391
        }
      ],
      "source": [
        "A = np.ones(3)*1\n",
        "B = np.ones(3)*2\n",
        "C = np.ones(3)*3\n",
        "np.add(A,B,out=B)\n",
        "np.divide(A,2,out=A)\n",
        "np.negative(A,out=A)\n",
        "np.multiply(A,B,out=A)"
      ]
    },
    {
      "cell_type": "markdown",
      "metadata": {
        "id": "6YypexQuFgQY"
      },
      "source": [
        "#### 36. Extract the integer part of a random array using 5 different methods (★★☆) \n",
        "(**hint**: %, np.floor, np.ceil, astype, np.trunc)"
      ]
    },
    {
      "cell_type": "code",
      "execution_count": null,
      "metadata": {
        "id": "cyvEL9PZFgQZ",
        "colab": {
          "base_uri": "https://localhost:8080/"
        },
        "outputId": "10b81e1d-9829-4188-8d2f-8aafd8d05f91"
      },
      "outputs": [
        {
          "output_type": "stream",
          "name": "stdout",
          "text": [
            "[ 0  1  2  3 -4 -5 -6 -7 -8  9 10]\n",
            "[ 0.  1.  2.  3. -4. -5. -6. -7. -8.  9. 10.]\n",
            "[-1.  0.  1.  2. -5. -6. -7. -8. -9.  8.  9.]\n",
            "[ 0  1  2  3 -4 -5 -6 -7 -8  9 10]\n",
            "[ 0.  1.  2.  3. -4. -5. -6. -7. -8.  9. 10.]\n"
          ]
        }
      ],
      "source": [
        "print (x - x%1)\n",
        "print (np.floor(x))\n",
        "print (np.ceil(x)-1)\n",
        "print (x.astype(int))\n",
        "print (np.trunc(x))"
      ]
    },
    {
      "cell_type": "markdown",
      "metadata": {
        "id": "xf19kFgJFgQZ"
      },
      "source": [
        "#### 37. Create a 5x5 matrix with row values ranging from 0 to 4 (★★☆) \n",
        "(**hint**: np.arange)"
      ]
    },
    {
      "cell_type": "code",
      "execution_count": null,
      "metadata": {
        "id": "h5bPLMXyFgQa",
        "colab": {
          "base_uri": "https://localhost:8080/"
        },
        "outputId": "2478bd28-3ecf-4720-b59f-9cbb8cc5dae6"
      },
      "outputs": [
        {
          "output_type": "stream",
          "name": "stdout",
          "text": [
            "[[0. 1. 2. 3. 4.]\n",
            " [0. 1. 2. 3. 4.]\n",
            " [0. 1. 2. 3. 4.]\n",
            " [0. 1. 2. 3. 4.]\n",
            " [0. 1. 2. 3. 4.]]\n"
          ]
        }
      ],
      "source": [
        "matrix=np.zeros((5,5))\n",
        "matrix+=np.arange(0,5)\n",
        "print(matrix)"
      ]
    },
    {
      "cell_type": "markdown",
      "metadata": {
        "id": "pTuO6gyMFgQa"
      },
      "source": [
        "#### 38. Consider a generator function that generates 10 integers and use it to build an array (★☆☆) \n",
        "(**hint**: np.fromiter)"
      ]
    },
    {
      "cell_type": "code",
      "execution_count": null,
      "metadata": {
        "id": "fKja1zwFFgQa",
        "colab": {
          "base_uri": "https://localhost:8080/"
        },
        "outputId": "d0ac9c19-179c-4a90-ba32-35a0ad0ff99b"
      },
      "outputs": [
        {
          "output_type": "stream",
          "name": "stdout",
          "text": [
            "[0. 1. 2. 3. 4. 5. 6. 7. 8. 9.]\n"
          ]
        }
      ],
      "source": [
        "def generate():\n",
        "    for x in range(10):\n",
        "        yield x\n",
        "aray = np.fromiter(generate(),dtype=float,count=-1)\n",
        "print(aray)"
      ]
    },
    {
      "cell_type": "markdown",
      "metadata": {
        "id": "xQCnjCbjFgQa"
      },
      "source": [
        "#### 39. Create a vector of size 10 with values ranging from 0 to 1, both excluded (★★☆) \n",
        "(**hint**: np.linspace)"
      ]
    },
    {
      "cell_type": "code",
      "execution_count": null,
      "metadata": {
        "id": "Few8Ypb8FgQb",
        "colab": {
          "base_uri": "https://localhost:8080/"
        },
        "outputId": "4dc8829f-c442-453c-c233-6233c07cc1e2"
      },
      "outputs": [
        {
          "output_type": "stream",
          "name": "stdout",
          "text": [
            "[0.09090909 0.18181818 0.27272727 0.36363636 0.45454545 0.54545455 0.63636364 0.72727273 0.81818182 0.90909091]\n"
          ]
        }
      ],
      "source": [
        "x = np.linspace(0,1,12,endpoint=True)[1:-1]\n",
        "print(x)"
      ]
    },
    {
      "cell_type": "markdown",
      "metadata": {
        "id": "jSatFR3NFgQb"
      },
      "source": [
        "#### 40. Create a random vector of size 10 and sort it (★★☆) \n",
        "(**hint**: sort)"
      ]
    },
    {
      "cell_type": "code",
      "execution_count": null,
      "metadata": {
        "id": "cCQaw1wEFgQb",
        "colab": {
          "base_uri": "https://localhost:8080/"
        },
        "outputId": "128e8183-0b79-47d3-85c4-bfa2ed4aff59"
      },
      "outputs": [
        {
          "output_type": "stream",
          "name": "stdout",
          "text": [
            "[0.02033519 0.02889122 0.08574506 0.10348272 0.15050627 0.15184449 0.15695835 0.23643748 0.43110719 0.65189893]\n"
          ]
        }
      ],
      "source": [
        "aray=np.random.random(10)\n",
        "aray.sort()\n",
        "print(aray)"
      ]
    },
    {
      "cell_type": "markdown",
      "metadata": {
        "id": "Ner_I08WFgQc"
      },
      "source": [
        "#### 41. How to sum a small array faster than np.sum? (★★☆) \n",
        "(**hint**: np.add.reduce)"
      ]
    },
    {
      "cell_type": "code",
      "execution_count": null,
      "metadata": {
        "id": "zhGLZpNWFgQc",
        "colab": {
          "base_uri": "https://localhost:8080/"
        },
        "outputId": "d7f7fadc-cc2a-4897-c03a-dcf6fc0fb254"
      },
      "outputs": [
        {
          "output_type": "execute_result",
          "data": {
            "text/plain": [
              "45"
            ]
          },
          "metadata": {},
          "execution_count": 397
        }
      ],
      "source": [
        "x = np.arange(10)\n",
        "np.add.reduce(x)"
      ]
    },
    {
      "cell_type": "markdown",
      "metadata": {
        "id": "KTa7gSC-FgQd"
      },
      "source": [
        "#### 42. Consider two random array A and B, check if they are equal (★★☆) \n",
        "(**hint**: np.allclose, np.array\\_equal)"
      ]
    },
    {
      "cell_type": "code",
      "execution_count": null,
      "metadata": {
        "id": "68OkFQwOFgQd",
        "colab": {
          "base_uri": "https://localhost:8080/"
        },
        "outputId": "a838caba-3511-4dca-ebb5-6639d0ee3d27"
      },
      "outputs": [
        {
          "output_type": "stream",
          "name": "stdout",
          "text": [
            "False\n",
            "False\n"
          ]
        }
      ],
      "source": [
        "A = np.random.randint(0,2,5)\n",
        "B = np.random.randint(0,2,5)\n",
        "\n",
        "equal = np.allclose(A,B)\n",
        "print(equal)\n",
        "\n",
        "equal = np.array_equal(A,B)\n",
        "print(equal)"
      ]
    },
    {
      "cell_type": "markdown",
      "metadata": {
        "id": "1E-xZi_4FgQe"
      },
      "source": [
        "#### 43. Make an array immutable (read-only) (★★☆) \n",
        "(**hint**: flags.writeable)"
      ]
    },
    {
      "cell_type": "code",
      "execution_count": null,
      "metadata": {
        "id": "RaOoCUO6FgQe"
      },
      "outputs": [],
      "source": [
        "x = np.zeros(10)\n",
        "x.flags.writeable = False"
      ]
    },
    {
      "cell_type": "markdown",
      "metadata": {
        "id": "FdxeiGJPFgQf"
      },
      "source": [
        "#### 44. Consider a random 10x2 matrix representing cartesian coordinates, convert them to polar coordinates (★★☆) \n",
        "(**hint**: np.sqrt, np.arctan2)"
      ]
    },
    {
      "cell_type": "code",
      "execution_count": null,
      "metadata": {
        "id": "z1dnWNE_FgQg",
        "colab": {
          "base_uri": "https://localhost:8080/"
        },
        "outputId": "a4b9bd88-d713-46ce-ee3e-ee0c71ae720c"
      },
      "outputs": [
        {
          "output_type": "stream",
          "name": "stdout",
          "text": [
            "[0.98805336 0.88343218 0.78246344 0.48574829 0.40328503 0.97929669 0.90551938 0.54090946 0.77722514 0.59888862]\n",
            "[0.27909386 1.01818767 1.18087006 1.17397504 0.73870531 0.92183623 1.43036319 1.16220146 1.28917252 0.20243246]\n"
          ]
        }
      ],
      "source": [
        "aray = np.random.random((10,2))\n",
        "X,Y = aray[:,0], aray[:,1]\n",
        "R = np.sqrt(X**2+Y**2)\n",
        "T = np.arctan2(Y,X)\n",
        "print(R)\n",
        "print(T)"
      ]
    },
    {
      "cell_type": "markdown",
      "metadata": {
        "id": "taLYNWiKFgQh"
      },
      "source": [
        "#### 45. Create random vector of size 10 and replace the maximum value by 0 (★★☆) \n",
        "(**hint**: argmax)"
      ]
    },
    {
      "cell_type": "code",
      "execution_count": null,
      "metadata": {
        "id": "feWS9WAvFgQi",
        "colab": {
          "base_uri": "https://localhost:8080/"
        },
        "outputId": "af2a3124-1e75-4ed0-ce38-61b80ca56d90"
      },
      "outputs": [
        {
          "output_type": "stream",
          "name": "stdout",
          "text": [
            "[0.60836724 0.67667301 0.78104682 0.83964775 0.65111874 0.27722341 0.73731972 0.         0.50585936 0.24427926]\n"
          ]
        }
      ],
      "source": [
        "x = np.random.random(10)\n",
        "x[x.argmax()] = 0\n",
        "print(x)"
      ]
    },
    {
      "cell_type": "markdown",
      "metadata": {
        "id": "znGyFz84FgQj"
      },
      "source": [
        "#### 46. Create a structured array with `x` and `y` coordinates covering the \\[0,1\\]x\\[0,1\\] area (★★☆) \n",
        "(**hint**: np.meshgrid)"
      ]
    },
    {
      "cell_type": "code",
      "execution_count": null,
      "metadata": {
        "id": "2YvZZS7OFgQj",
        "colab": {
          "base_uri": "https://localhost:8080/"
        },
        "outputId": "95709f00-04c9-4d62-c5aa-ecbf51bc1e65"
      },
      "outputs": [
        {
          "output_type": "stream",
          "name": "stdout",
          "text": [
            "[[(0.  , 0.  ) (0.25, 0.  ) (0.5 , 0.  ) (0.75, 0.  ) (1.  , 0.  )]\n",
            " [(0.  , 0.25) (0.25, 0.25) (0.5 , 0.25) (0.75, 0.25) (1.  , 0.25)]\n",
            " [(0.  , 0.5 ) (0.25, 0.5 ) (0.5 , 0.5 ) (0.75, 0.5 ) (1.  , 0.5 )]\n",
            " [(0.  , 0.75) (0.25, 0.75) (0.5 , 0.75) (0.75, 0.75) (1.  , 0.75)]\n",
            " [(0.  , 1.  ) (0.25, 1.  ) (0.5 , 1.  ) (0.75, 1.  ) (1.  , 1.  )]]\n"
          ]
        }
      ],
      "source": [
        "Z = np.zeros((5,5), [('x',float),('y',float)])\n",
        "Z['x'], Z['y'] = np.meshgrid(np.linspace(0,1,5),\n",
        "                             np.linspace(0,1,5))\n",
        "print(Z)"
      ]
    },
    {
      "cell_type": "markdown",
      "metadata": {
        "id": "eGb5HdHjFgQj"
      },
      "source": [
        "####  47. Given two arrays, X and Y, construct the Cauchy matrix C (Cij =1/(xi - yj)) \n",
        "(**hint**: np.subtract.outer)"
      ]
    },
    {
      "cell_type": "code",
      "execution_count": null,
      "metadata": {
        "id": "cHR7kkbYFgQk",
        "colab": {
          "base_uri": "https://localhost:8080/"
        },
        "outputId": "e3855c6a-2f38-4a6d-a1ef-26c3abd36980"
      },
      "outputs": [
        {
          "output_type": "stream",
          "name": "stdout",
          "text": [
            "3638.163637117973\n"
          ]
        }
      ],
      "source": [
        "X = np.arange(8)\n",
        "Y = X + 0.5\n",
        "C = 1.0 / np.subtract.outer(X, Y)\n",
        "print(np.linalg.det(C))"
      ]
    },
    {
      "cell_type": "markdown",
      "metadata": {
        "id": "efsU0beAFgQk"
      },
      "source": [
        "#### 48. Print the minimum and maximum representable value for each numpy scalar type (★★☆) \n",
        "(**hint**: np.iinfo, np.finfo, eps)"
      ]
    },
    {
      "cell_type": "code",
      "execution_count": null,
      "metadata": {
        "id": "3OB32kBZFgQk",
        "colab": {
          "base_uri": "https://localhost:8080/"
        },
        "outputId": "8697a74d-b4a6-4307-fc5f-b393e7fd3549"
      },
      "outputs": [
        {
          "output_type": "stream",
          "name": "stdout",
          "text": [
            "-128\n",
            "127\n",
            "-2147483648\n",
            "2147483647\n",
            "-9223372036854775808\n",
            "9223372036854775807\n",
            "-3.4028235e+38\n",
            "3.4028235e+38\n",
            "1.1920929e-07\n",
            "-1.7976931348623157e+308\n",
            "1.7976931348623157e+308\n",
            "2.220446049250313e-16\n"
          ]
        }
      ],
      "source": [
        "for dtype in [np.int8, np.int32, np.int64]:\n",
        "   print(np.iinfo(dtype).min)\n",
        "   print(np.iinfo(dtype).max)\n",
        "for dtype in [np.float32, np.float64]:\n",
        "   print(np.finfo(dtype).min)\n",
        "   print(np.finfo(dtype).max)\n",
        "   print(np.finfo(dtype).eps)"
      ]
    },
    {
      "cell_type": "markdown",
      "metadata": {
        "id": "N3m3Fm8WFgQk"
      },
      "source": [
        "#### 49. How to print all the values of an array? (★★☆) \n",
        "(**hint**: np.set\\_printoptions)"
      ]
    },
    {
      "cell_type": "code",
      "execution_count": null,
      "metadata": {
        "id": "9IHsYlEPFgQl",
        "colab": {
          "base_uri": "https://localhost:8080/"
        },
        "outputId": "60e5e60f-1dab-4178-f8f9-44c2e3557b23"
      },
      "outputs": [
        {
          "output_type": "stream",
          "name": "stdout",
          "text": [
            "[[0. 0. 0. 0. 0.]\n",
            " [0. 0. 0. 0. 0.]\n",
            " [0. 0. 0. 0. 0.]\n",
            " [0. 0. 0. 0. 0.]\n",
            " [0. 0. 0. 0. 0.]]\n"
          ]
        }
      ],
      "source": [
        "np.set_printoptions(threshold=np.inf, linewidth=np.nan)\n",
        "x = np.zeros((5,5))\n",
        "print(x)"
      ]
    },
    {
      "cell_type": "markdown",
      "metadata": {
        "id": "UDj-6zNuFgQl"
      },
      "source": [
        "#### 50. How to find the closest value (to a given scalar) in a vector? (★★☆) \n",
        "(**hint**: argmin)"
      ]
    },
    {
      "cell_type": "code",
      "execution_count": null,
      "metadata": {
        "id": "9iubI9pbFgQl",
        "colab": {
          "base_uri": "https://localhost:8080/"
        },
        "outputId": "879ba01d-819f-4ea3-a719-36252a45ddd6"
      },
      "outputs": [
        {
          "output_type": "stream",
          "name": "stdout",
          "text": [
            "33\n"
          ]
        }
      ],
      "source": [
        "Z = np.arange(100)\n",
        "v = np.random.uniform(0,100)\n",
        "index = (np.abs(Z-v)).argmin()\n",
        "print(Z[index])"
      ]
    },
    {
      "cell_type": "markdown",
      "metadata": {
        "id": "xaljUnGeFgQl"
      },
      "source": [
        "#### 51. Create a structured array representing a position (x,y) and a color (r,g,b) (★★☆) \n",
        "(**hint**: dtype)"
      ]
    },
    {
      "cell_type": "code",
      "execution_count": null,
      "metadata": {
        "id": "zepToEHmFgQm",
        "colab": {
          "base_uri": "https://localhost:8080/"
        },
        "outputId": "95ca66e6-bdd8-4e0a-b22b-8ba49234cf2f"
      },
      "outputs": [
        {
          "output_type": "stream",
          "name": "stdout",
          "text": [
            "[((0., 0.), (0., 0., 0.)) ((0., 0.), (0., 0., 0.)) ((0., 0.), (0., 0., 0.)) ((0., 0.), (0., 0., 0.)) ((0., 0.), (0., 0., 0.)) ((0., 0.), (0., 0., 0.)) ((0., 0.), (0., 0., 0.)) ((0., 0.), (0., 0., 0.)) ((0., 0.), (0., 0., 0.)) ((0., 0.), (0., 0., 0.))]\n"
          ]
        },
        {
          "output_type": "stream",
          "name": "stderr",
          "text": [
            "/usr/local/lib/python3.7/dist-packages/ipykernel_launcher.py:5: FutureWarning: Passing (type, 1) or '1type' as a synonym of type is deprecated; in a future version of numpy, it will be understood as (type, (1,)) / '(1,)type'.\n",
            "  \"\"\"\n"
          ]
        }
      ],
      "source": [
        "aray = np.zeros(10, [ ('position', [ ('x', float, 1),\n",
        "                                  ('y', float, 1)]),\n",
        "                   ('color',    [ ('r', float, 1),\n",
        "                                  ('g', float, 1),\n",
        "                                  ('b', float, 1)])])\n",
        "print(aray)\n"
      ]
    },
    {
      "cell_type": "markdown",
      "metadata": {
        "id": "xXX9C_2UFgQm"
      },
      "source": [
        "#### 52. Consider a random vector with shape (100,2) representing coordinates, find point by point distances (★★☆) \n",
        "(**hint**: np.atleast\\_2d, T, np.sqrt)"
      ]
    },
    {
      "cell_type": "code",
      "execution_count": null,
      "metadata": {
        "id": "gNo2VKGRFgQn",
        "colab": {
          "base_uri": "https://localhost:8080/"
        },
        "outputId": "797711f3-9fdb-485d-8df9-9271912b2f98"
      },
      "outputs": [
        {
          "output_type": "stream",
          "name": "stdout",
          "text": [
            "[[0.         0.61689439 0.16425703 0.55701501 0.12368242 0.51226322 0.27735069 0.79174142 0.64321112 0.39063525]\n",
            " [0.61689439 0.         0.46774165 0.21136412 0.63116213 0.38161368 0.75753578 0.75340659 0.18576991 0.64459478]\n",
            " [0.16425703 0.46774165 0.         0.44686294 0.16766851 0.45149898 0.31871331 0.67840374 0.52391953 0.3241934 ]\n",
            " [0.55701501 0.21136412 0.44686294 0.         0.61205888 0.17470226 0.76482061 0.91214129 0.09217423 0.71183965]\n",
            " [0.12368242 0.63116213 0.16766851 0.61205888 0.         0.59794094 0.16531349 0.684652   0.6909913  0.27310754]\n",
            " [0.51226322 0.38161368 0.45149898 0.17470226 0.59794094 0.         0.76175753 1.024128   0.24945688 0.76001502]\n",
            " [0.27735069 0.75753578 0.31871331 0.76482061 0.16531349 0.76175753 0.         0.63423021 0.83887942 0.22339218]\n",
            " [0.79174142 0.75340659 0.67840374 0.91214129 0.684652   1.024128   0.63423021 0.         0.92963547 0.41934478]\n",
            " [0.64321112 0.18576991 0.52391953 0.09217423 0.6909913  0.24945688 0.83887942 0.92963547 0.         0.76786463]\n",
            " [0.39063525 0.64459478 0.3241934  0.71183965 0.27310754 0.76001502 0.22339218 0.41934478 0.76786463 0.        ]]\n"
          ]
        }
      ],
      "source": [
        "aray = np.random.random((10,2))\n",
        "X,Y = np.atleast_2d(aray[:,0], aray[:,1])\n",
        "D = np.sqrt( (X-X.T)**2 + (Y-Y.T)**2)\n",
        "print(D)"
      ]
    },
    {
      "cell_type": "markdown",
      "metadata": {
        "id": "t11uLQ4YFgQn"
      },
      "source": [
        "#### 53. How to convert a float (32 bits) array into an integer (32 bits) in place? \n",
        "(**hint**: astype(copy=False))"
      ]
    },
    {
      "cell_type": "code",
      "execution_count": null,
      "metadata": {
        "id": "5B860zylFgQn",
        "colab": {
          "base_uri": "https://localhost:8080/"
        },
        "outputId": "d8e89d24-6ad2-4852-94e5-435f6cc72b08"
      },
      "outputs": [
        {
          "output_type": "stream",
          "name": "stdout",
          "text": [
            "[0. 1. 2. 3. 4. 5. 6. 7. 8. 9.]\n"
          ]
        }
      ],
      "source": [
        "aray = np.arange(10, dtype=np.int32)\n",
        "aray = aray.astype(np.float32, copy=False)\n",
        "print(aray)"
      ]
    },
    {
      "cell_type": "markdown",
      "metadata": {
        "id": "o0uVttXcFgQo"
      },
      "source": [
        "#### 54. How to read the following file? (★★☆) \n",
        "(**hint**: np.genfromtxt)"
      ]
    },
    {
      "cell_type": "markdown",
      "metadata": {
        "id": "H35960KwFgQo"
      },
      "source": [
        "```\n",
        "1, 2, 3, 4, 5\n",
        "6,  ,  , 7, 8\n",
        " ,  , 9,10,11\n",
        "```"
      ]
    },
    {
      "cell_type": "code",
      "execution_count": null,
      "metadata": {
        "id": "S5T7G9_tFgQp",
        "colab": {
          "base_uri": "https://localhost:8080/"
        },
        "outputId": "a08da9c5-1880-4c5e-b822-8c86dc3afde9"
      },
      "outputs": [
        {
          "output_type": "stream",
          "name": "stdout",
          "text": [
            "[[ 1  2  3  4  5]\n",
            " [ 6 -1 -1  7  8]\n",
            " [-1 -1  9 10 11]]\n"
          ]
        },
        {
          "output_type": "stream",
          "name": "stderr",
          "text": [
            "/usr/local/lib/python3.7/dist-packages/ipykernel_launcher.py:5: DeprecationWarning: `np.int` is a deprecated alias for the builtin `int`. To silence this warning, use `int` by itself. Doing this will not modify any behavior and is safe. When replacing `np.int`, you may wish to use e.g. `np.int64` or `np.int32` to specify the precision. If you wish to review your current use, check the release note link for additional information.\n",
            "Deprecated in NumPy 1.20; for more details and guidance: https://numpy.org/devdocs/release/1.20.0-notes.html#deprecations\n",
            "  \"\"\"\n"
          ]
        }
      ],
      "source": [
        "from io import StringIO\n",
        "string = StringIO(\"\"\"1, 2, 3, 4, 5\\n\n",
        "                6,  ,  , 7, 8\\n\n",
        "                 ,  , 9,10,11\\n\"\"\")\n",
        "out = np.genfromtxt(string, delimiter=\",\", dtype=np.int)\n",
        "print(out)"
      ]
    },
    {
      "cell_type": "markdown",
      "metadata": {
        "id": "B98eHVNhFgQq"
      },
      "source": [
        "#### 55. What is the equivalent of enumerate for numpy arrays? (★★☆) \n",
        "(**hint**: np.ndenumerate, np.ndindex)"
      ]
    },
    {
      "cell_type": "code",
      "execution_count": null,
      "metadata": {
        "id": "yM0rR8b8FgQr",
        "colab": {
          "base_uri": "https://localhost:8080/"
        },
        "outputId": "0aab50a6-0ba0-4c80-843d-1fb8d5a4d7c8"
      },
      "outputs": [
        {
          "output_type": "stream",
          "name": "stdout",
          "text": [
            "(0, 0) 0\n",
            "(0, 1) 1\n",
            "(0, 2) 2\n",
            "(1, 0) 3\n",
            "(1, 1) 4\n",
            "(1, 2) 5\n",
            "(2, 0) 6\n",
            "(2, 1) 7\n",
            "(2, 2) 8\n",
            "(0, 0) 0\n",
            "(0, 1) 1\n",
            "(0, 2) 2\n",
            "(1, 0) 3\n",
            "(1, 1) 4\n",
            "(1, 2) 5\n",
            "(2, 0) 6\n",
            "(2, 1) 7\n",
            "(2, 2) 8\n"
          ]
        }
      ],
      "source": [
        "Z = np.arange(9).reshape(3,3)\n",
        "for index, value in np.ndenumerate(Z):\n",
        "    print(index, value)\n",
        "for index in np.ndindex(Z.shape):\n",
        "    print(index, Z[index])\n"
      ]
    },
    {
      "cell_type": "markdown",
      "metadata": {
        "id": "pzDLkva_FgQr"
      },
      "source": [
        "#### 56. Generate a generic 2D Gaussian-like array (★★☆) \n",
        "(**hint**: np.meshgrid, np.exp)"
      ]
    },
    {
      "cell_type": "code",
      "execution_count": null,
      "metadata": {
        "id": "ZRiZZJ3sFgQr",
        "colab": {
          "base_uri": "https://localhost:8080/"
        },
        "outputId": "ea80ec7e-2480-4ae8-a615-2b7564f7025f"
      },
      "outputs": [
        {
          "output_type": "stream",
          "name": "stdout",
          "text": [
            "[[0.36787944 0.44822088 0.51979489 0.57375342 0.60279818 0.60279818 0.57375342 0.51979489 0.44822088 0.36787944]\n",
            " [0.44822088 0.54610814 0.63331324 0.69905581 0.73444367 0.73444367 0.69905581 0.63331324 0.54610814 0.44822088]\n",
            " [0.51979489 0.63331324 0.73444367 0.81068432 0.85172308 0.85172308 0.81068432 0.73444367 0.63331324 0.51979489]\n",
            " [0.57375342 0.69905581 0.81068432 0.89483932 0.9401382  0.9401382  0.89483932 0.81068432 0.69905581 0.57375342]\n",
            " [0.60279818 0.73444367 0.85172308 0.9401382  0.98773022 0.98773022 0.9401382  0.85172308 0.73444367 0.60279818]\n",
            " [0.60279818 0.73444367 0.85172308 0.9401382  0.98773022 0.98773022 0.9401382  0.85172308 0.73444367 0.60279818]\n",
            " [0.57375342 0.69905581 0.81068432 0.89483932 0.9401382  0.9401382  0.89483932 0.81068432 0.69905581 0.57375342]\n",
            " [0.51979489 0.63331324 0.73444367 0.81068432 0.85172308 0.85172308 0.81068432 0.73444367 0.63331324 0.51979489]\n",
            " [0.44822088 0.54610814 0.63331324 0.69905581 0.73444367 0.73444367 0.69905581 0.63331324 0.54610814 0.44822088]\n",
            " [0.36787944 0.44822088 0.51979489 0.57375342 0.60279818 0.60279818 0.57375342 0.51979489 0.44822088 0.36787944]]\n"
          ]
        }
      ],
      "source": [
        "X, Y = np.meshgrid(np.linspace(-1,1,10), np.linspace(-1,1,10))\n",
        "D = np.sqrt(X*X+Y*Y)\n",
        "sigma, mu = 1.0, 0.0\n",
        "G = np.exp(-( (D-mu)**2 / ( 2.0 * sigma**2 ) ) )\n",
        "print(G)"
      ]
    },
    {
      "cell_type": "markdown",
      "metadata": {
        "id": "jR8c0jTjFgQs"
      },
      "source": [
        "#### 57. How to randomly place p elements in a 2D array? (★★☆) \n",
        "(**hint**: np.put, np.random.choice)"
      ]
    },
    {
      "cell_type": "code",
      "execution_count": null,
      "metadata": {
        "id": "d9ZQldt_FgQs",
        "colab": {
          "base_uri": "https://localhost:8080/"
        },
        "outputId": "e51047de-75a6-4afa-b935-072cad8fee9c"
      },
      "outputs": [
        {
          "output_type": "stream",
          "name": "stdout",
          "text": [
            "[[0. 0. 0. 0. 0. 0. 0. 0. 0. 0.]\n",
            " [0. 0. 0. 0. 0. 0. 0. 0. 0. 0.]\n",
            " [0. 0. 0. 0. 0. 0. 0. 0. 0. 0.]\n",
            " [0. 0. 0. 0. 0. 0. 0. 0. 0. 0.]\n",
            " [0. 0. 1. 0. 0. 0. 0. 0. 0. 0.]\n",
            " [0. 1. 0. 0. 0. 0. 0. 0. 0. 0.]\n",
            " [0. 0. 0. 0. 0. 0. 0. 0. 0. 0.]\n",
            " [0. 0. 0. 0. 0. 0. 0. 0. 0. 0.]\n",
            " [0. 0. 0. 0. 0. 0. 0. 0. 0. 0.]\n",
            " [0. 0. 0. 0. 0. 0. 0. 0. 0. 1.]]\n"
          ]
        }
      ],
      "source": [
        "n = 10\n",
        "p = 3\n",
        "aray= np.zeros((n,n))\n",
        "np.put(aray, np.random.choice(range(n*n), p, replace=False),1)\n",
        "print(aray)"
      ]
    },
    {
      "cell_type": "markdown",
      "metadata": {
        "id": "65kA9rp_FgQs"
      },
      "source": [
        "#### 58. Subtract the mean of each row of a matrix (★★☆) \n",
        "(**hint**: mean(axis=,keepdims=))"
      ]
    },
    {
      "cell_type": "code",
      "execution_count": null,
      "metadata": {
        "id": "duiGm383FgQs",
        "colab": {
          "base_uri": "https://localhost:8080/"
        },
        "outputId": "d79d43a8-7e68-4e54-8909-c391989a25f3"
      },
      "outputs": [
        {
          "output_type": "stream",
          "name": "stdout",
          "text": [
            "[[ 0.30076538 -0.06392988 -0.35973744 -0.00998203 -0.36995344 -0.27006393  0.3208959   0.42030859 -0.36368462  0.39538148]\n",
            " [-0.33521357  0.25890792 -0.2795024  -0.25252241  0.15396625  0.01576386 -0.28403617  0.4952079   0.27523449 -0.04780588]\n",
            " [ 0.5452021   0.54893201  0.31960657 -0.41631827 -0.06524025 -0.26637265 -0.40718676  0.25834634 -0.18484338 -0.33212573]\n",
            " [ 0.02623256 -0.18483343 -0.11337395 -0.08155909  0.25752883 -0.11442276  0.41379503  0.10362699  0.10056169 -0.40755587]\n",
            " [-0.17068187  0.12998038  0.14047718  0.07184603 -0.25747822  0.32861692 -0.25070731  0.06253794  0.03948671 -0.09407774]]\n"
          ]
        }
      ],
      "source": [
        "X = np.random.rand(5, 10)\n",
        "Y = X - X.mean(axis=1, keepdims=True)\n",
        "\n",
        "print(Y)"
      ]
    },
    {
      "cell_type": "markdown",
      "metadata": {
        "id": "Ni0_JXhGFgQt"
      },
      "source": [
        "#### 59. How to sort an array by the nth column? (★★☆) \n",
        "(**hint**: argsort)"
      ]
    },
    {
      "cell_type": "code",
      "execution_count": null,
      "metadata": {
        "id": "AzpqLr9iFgQt",
        "colab": {
          "base_uri": "https://localhost:8080/"
        },
        "outputId": "ae667b84-1036-4f1a-b88e-7e2296c99b2e"
      },
      "outputs": [
        {
          "output_type": "stream",
          "name": "stdout",
          "text": [
            "[[9 8 1]\n",
            " [8 3 0]\n",
            " [1 7 3]]\n",
            "[[8 3 0]\n",
            " [1 7 3]\n",
            " [9 8 1]]\n"
          ]
        }
      ],
      "source": [
        "x = np.random.randint(0,10,(3,3))\n",
        "print(x)\n",
        "print(x[x[:,1].argsort()])"
      ]
    },
    {
      "cell_type": "markdown",
      "metadata": {
        "id": "cgWTgPKoFgQu"
      },
      "source": [
        "#### 60. How to tell if a given 2D array has null columns? (★★☆) \n",
        "(**hint**: any, ~)"
      ]
    },
    {
      "cell_type": "code",
      "execution_count": null,
      "metadata": {
        "id": "XvVLuTaoFgQu",
        "colab": {
          "base_uri": "https://localhost:8080/"
        },
        "outputId": "5c4b77a1-df1f-4522-f89a-c2c2a13fb52c"
      },
      "outputs": [
        {
          "output_type": "stream",
          "name": "stdout",
          "text": [
            "False\n"
          ]
        }
      ],
      "source": [
        "Z = np.random.randint(0,3,(3,10))\n",
        "print((~Z.any(axis=0)).any())"
      ]
    },
    {
      "cell_type": "markdown",
      "metadata": {
        "id": "V42CNYhsFgQv"
      },
      "source": [
        "#### 61. Find the nearest value from a given value in an array (★★☆) \n",
        "(**hint**: np.abs, argmin, flat)"
      ]
    },
    {
      "cell_type": "code",
      "execution_count": null,
      "metadata": {
        "id": "CJ__95j3FgQw",
        "colab": {
          "base_uri": "https://localhost:8080/"
        },
        "outputId": "dd58fc79-9006-4905-cac2-fa65390be1ce"
      },
      "outputs": [
        {
          "output_type": "stream",
          "name": "stdout",
          "text": [
            "0.41111357228004897\n"
          ]
        }
      ],
      "source": [
        "aray = np.random.uniform(0,1,10)\n",
        "x = 0.5\n",
        "m = aray.flat[np.abs(aray - x).argmin()]\n",
        "print(m)"
      ]
    },
    {
      "cell_type": "markdown",
      "metadata": {
        "id": "OBdHtCOQFgQx"
      },
      "source": [
        "#### 62. Considering two arrays with shape (1,3) and (3,1), how to compute their sum using an iterator? (★★☆) \n",
        "(**hint**: np.nditer)"
      ]
    },
    {
      "cell_type": "code",
      "execution_count": null,
      "metadata": {
        "id": "Ofrct0gzFgQy",
        "colab": {
          "base_uri": "https://localhost:8080/"
        },
        "outputId": "be73e04e-2585-48d9-f7c8-d38d7d291e9e"
      },
      "outputs": [
        {
          "output_type": "stream",
          "name": "stdout",
          "text": [
            "[[0 1 2]\n",
            " [1 2 3]\n",
            " [2 3 4]]\n"
          ]
        }
      ],
      "source": [
        "A = np.arange(3).reshape(3,1)\n",
        "B = np.arange(3).reshape(1,3)\n",
        "itr = np.nditer([A,B,None])\n",
        "for x,y,z in itr: z[...] = x + y\n",
        "print(itr.operands[2])"
      ]
    },
    {
      "cell_type": "markdown",
      "metadata": {
        "id": "6CBkVPS8FgQy"
      },
      "source": [
        "#### 63. Create an array class that has a name attribute (★★☆) \n",
        "(**hint**: class method)"
      ]
    },
    {
      "cell_type": "code",
      "execution_count": null,
      "metadata": {
        "id": "oP2CaYD9FgQz",
        "colab": {
          "base_uri": "https://localhost:8080/"
        },
        "outputId": "cd2a5359-180f-4f70-ea20-4428ac2fcef8"
      },
      "outputs": [
        {
          "output_type": "stream",
          "name": "stdout",
          "text": [
            "range_10\n"
          ]
        }
      ],
      "source": [
        "class NamedArray(np.ndarray):\n",
        "    def __new__(cls, array, name=\"no name\"):\n",
        "        obj = np.asarray(array).view(cls)\n",
        "        obj.name = name\n",
        "        return obj\n",
        "    def __array_finalize__(self, obj):\n",
        "        if obj is None: return\n",
        "        self.info = getattr(obj, 'name', \"no name\")\n",
        "\n",
        "aray = NamedArray(np.arange(10), \"range_10\")\n",
        "print (aray.name)"
      ]
    },
    {
      "cell_type": "markdown",
      "metadata": {
        "id": "Ne5cxBTPFgQz"
      },
      "source": [
        "#### 64. Consider a given vector, how to add 1 to each element indexed by a second vector (be careful with repeated indices)? (★★★) \n",
        "(**hint**: np.bincount | np.add.at)"
      ]
    },
    {
      "cell_type": "code",
      "execution_count": null,
      "metadata": {
        "id": "cTs2nxnsFgQz",
        "colab": {
          "base_uri": "https://localhost:8080/"
        },
        "outputId": "e59875dc-c2fe-434c-ff37-21c07d6f46d1"
      },
      "outputs": [
        {
          "output_type": "stream",
          "name": "stdout",
          "text": [
            "[2. 3. 3. 4. 4. 4. 1. 2. 3. 4.]\n"
          ]
        }
      ],
      "source": [
        "Z = np.ones(10)\n",
        "I = np.random.randint(0,len(Z),20)\n",
        "Z += np.bincount(I, minlength=len(Z))\n",
        "print(Z)"
      ]
    },
    {
      "cell_type": "markdown",
      "metadata": {
        "id": "Hr3eXEtEFgQz"
      },
      "source": [
        "#### 65. How to accumulate elements of a vector (X) to an array (F) based on an index list (I)? (★★★) \n",
        "(**hint**: np.bincount)"
      ]
    },
    {
      "cell_type": "code",
      "execution_count": null,
      "metadata": {
        "id": "9Xil1h1yFgQ0",
        "colab": {
          "base_uri": "https://localhost:8080/"
        },
        "outputId": "43199ade-bbee-49b3-a6b1-a147ed356868"
      },
      "outputs": [
        {
          "output_type": "stream",
          "name": "stdout",
          "text": [
            "[0. 7. 0. 6. 5. 0. 0. 0. 0. 3.]\n"
          ]
        }
      ],
      "source": [
        "X = [1,2,3,4,5,6]\n",
        "I = [1,3,9,3,4,1]\n",
        "F = np.bincount(I,X)\n",
        "print(F)"
      ]
    },
    {
      "cell_type": "markdown",
      "metadata": {
        "id": "-IHT0G_xFgQ0"
      },
      "source": [
        "#### 66. Considering a (w,h,3) image of (dtype=ubyte), compute the number of unique colors (★★★) \n",
        "(**hint**: np.unique)"
      ]
    },
    {
      "cell_type": "code",
      "execution_count": null,
      "metadata": {
        "id": "vTEjGL2GFgQ1",
        "colab": {
          "base_uri": "https://localhost:8080/"
        },
        "outputId": "a668a331-e2c8-4fec-c38b-884bd3dbba91"
      },
      "outputs": [
        {
          "output_type": "stream",
          "name": "stdout",
          "text": [
            "[0 1]\n"
          ]
        }
      ],
      "source": [
        "w,h = 16,16\n",
        "I = np.random.randint(0,2,(h,w,3)).astype(np.ubyte)\n",
        "F = I[...,0]*256*256 + I[...,1]*256 +I[...,2]\n",
        "n = len(np.unique(F))\n",
        "print(np.unique(I))"
      ]
    },
    {
      "cell_type": "markdown",
      "metadata": {
        "id": "FmnbJnwuFgQ2"
      },
      "source": [
        "#### 67. Considering a four dimensions array, how to get sum over the last two axis at once? (★★★) \n",
        "(**hint**: sum(axis=(-2,-1)))"
      ]
    },
    {
      "cell_type": "code",
      "execution_count": null,
      "metadata": {
        "id": "sZp2Ss7IFgQ2",
        "colab": {
          "base_uri": "https://localhost:8080/"
        },
        "outputId": "662ab9dd-5b90-4dc9-a1e8-e5e8724877e1"
      },
      "outputs": [
        {
          "output_type": "stream",
          "name": "stdout",
          "text": [
            "[[43 42 54 50]\n",
            " [44 58 61 46]\n",
            " [48 71 52 57]]\n"
          ]
        }
      ],
      "source": [
        "A = np.random.randint(0,10,(3,4,3,4))\n",
        "sum = A.sum(axis=(-2,-1))\n",
        "\n",
        "print(sum)"
      ]
    },
    {
      "cell_type": "markdown",
      "metadata": {
        "id": "5rOfzhx0FgQ3"
      },
      "source": [
        "#### 68. Considering a one-dimensional vector D, how to compute means of subsets of D using a vector S of same size describing subset  indices? (★★★) \n",
        "(**hint**: np.bincount)"
      ]
    },
    {
      "cell_type": "code",
      "execution_count": null,
      "metadata": {
        "id": "AP6DADPkFgQ3",
        "colab": {
          "base_uri": "https://localhost:8080/"
        },
        "outputId": "e3695f87-885a-4f4a-8691-61b5b5d4b419"
      },
      "outputs": [
        {
          "output_type": "stream",
          "name": "stdout",
          "text": [
            "[0.40887682 0.47687652 0.42969299 0.54683641 0.50095511 0.52535116 0.48600548 0.56200145 0.42944958 0.39750164]\n"
          ]
        }
      ],
      "source": [
        "D = np.random.uniform(0,1,100)\n",
        "S = np.random.randint(0,10,100)\n",
        "D_sums = np.bincount(S, weights=D)\n",
        "D_counts = np.bincount(S)\n",
        "D_means = D_sums / D_counts\n",
        "print(D_means)"
      ]
    },
    {
      "cell_type": "markdown",
      "metadata": {
        "id": "heSXt_AFFgQ4"
      },
      "source": [
        "#### 69. How to get the diagonal of a dot product? (★★★) \n",
        "(**hint**: np.diag)"
      ]
    },
    {
      "cell_type": "code",
      "execution_count": null,
      "metadata": {
        "id": "xOyl8-nvFgQ5",
        "colab": {
          "base_uri": "https://localhost:8080/"
        },
        "outputId": "1c3fc785-3334-48f0-8280-b907d9c539e7"
      },
      "outputs": [
        {
          "output_type": "execute_result",
          "data": {
            "text/plain": [
              "array([1.67435706, 2.08670415, 0.64392465, 3.86358501, 1.21285872])"
            ]
          },
          "metadata": {},
          "execution_count": 425
        }
      ],
      "source": [
        "A = np.random.uniform(0,1,(5,5))\n",
        "B = np.random.uniform(0,1,(5,5))\n",
        "\n",
        "np.diag(np.dot(A, B))"
      ]
    },
    {
      "cell_type": "markdown",
      "metadata": {
        "id": "fmaTzNvmFgQ5"
      },
      "source": [
        "#### 70. Consider the vector \\[1, 2, 3, 4, 5\\], how to build a new vector with 3 consecutive zeros interleaved between each value? (★★★) \n",
        "(**hint**: array\\[::4\\])"
      ]
    },
    {
      "cell_type": "code",
      "execution_count": null,
      "metadata": {
        "id": "uLXtrLWeFgQ6",
        "colab": {
          "base_uri": "https://localhost:8080/"
        },
        "outputId": "d9737c6e-66cc-44f9-8c09-6c130958a9e5"
      },
      "outputs": [
        {
          "output_type": "stream",
          "name": "stdout",
          "text": [
            "[1. 0. 0. 0. 2. 0. 0. 0. 3. 0. 0. 0. 4. 0. 0. 0. 5.]\n"
          ]
        }
      ],
      "source": [
        "x = np.array([1,2,3,4,5])\n",
        "nx = 3\n",
        "x_new = np.zeros(len(x) + (len(x)-1)*(nx))\n",
        "x_new[::nx+1] = x\n",
        "print(x_new)"
      ]
    },
    {
      "cell_type": "markdown",
      "metadata": {
        "id": "eg3VO49NFgQ6"
      },
      "source": [
        "#### 71. Consider an array of dimension (5,5,3), how to mulitply it by an array with dimensions (5,5)? (★★★) \n",
        "(**hint**: array\\[:, :, None\\])"
      ]
    },
    {
      "cell_type": "code",
      "execution_count": null,
      "metadata": {
        "collapsed": true,
        "id": "i3t3qJuJFgQ7",
        "colab": {
          "base_uri": "https://localhost:8080/"
        },
        "outputId": "d0c3272e-00c8-4085-98de-e839b3913dd3"
      },
      "outputs": [
        {
          "output_type": "stream",
          "name": "stdout",
          "text": [
            "[[[2. 2. 2.]\n",
            "  [2. 2. 2.]\n",
            "  [2. 2. 2.]\n",
            "  [2. 2. 2.]\n",
            "  [2. 2. 2.]]\n",
            "\n",
            " [[2. 2. 2.]\n",
            "  [2. 2. 2.]\n",
            "  [2. 2. 2.]\n",
            "  [2. 2. 2.]\n",
            "  [2. 2. 2.]]\n",
            "\n",
            " [[2. 2. 2.]\n",
            "  [2. 2. 2.]\n",
            "  [2. 2. 2.]\n",
            "  [2. 2. 2.]\n",
            "  [2. 2. 2.]]\n",
            "\n",
            " [[2. 2. 2.]\n",
            "  [2. 2. 2.]\n",
            "  [2. 2. 2.]\n",
            "  [2. 2. 2.]\n",
            "  [2. 2. 2.]]\n",
            "\n",
            " [[2. 2. 2.]\n",
            "  [2. 2. 2.]\n",
            "  [2. 2. 2.]\n",
            "  [2. 2. 2.]\n",
            "  [2. 2. 2.]]]\n"
          ]
        }
      ],
      "source": [
        "A = np.ones((5,5,3))\n",
        "B = 2*np.ones((5,5))\n",
        "print(A * B[:,:,None])"
      ]
    },
    {
      "cell_type": "markdown",
      "metadata": {
        "id": "V5HBSR-GFgQ7"
      },
      "source": [
        "#### 72. How to swap two rows of an array? (★★★) \n",
        "(**hint**: array\\[\\[\\]\\] = array\\[\\[\\]\\])"
      ]
    },
    {
      "cell_type": "code",
      "execution_count": null,
      "metadata": {
        "id": "ptrkyqj3FgQ7",
        "colab": {
          "base_uri": "https://localhost:8080/"
        },
        "outputId": "5ef73029-bcb8-4f6e-b1ca-aba23655f499"
      },
      "outputs": [
        {
          "output_type": "stream",
          "name": "stdout",
          "text": [
            "[[ 5  6  7  8  9]\n",
            " [ 0  1  2  3  4]\n",
            " [10 11 12 13 14]\n",
            " [15 16 17 18 19]\n",
            " [20 21 22 23 24]]\n"
          ]
        }
      ],
      "source": [
        "A = np.arange(25).reshape(5,5)\n",
        "A[[0,1]] = A[[1,0]]\n",
        "print(A)"
      ]
    },
    {
      "cell_type": "markdown",
      "metadata": {
        "id": "BqCYmNmQFgQ8"
      },
      "source": [
        "#### 73. Consider a set of 10 triplets describing 10 triangles (with shared vertices), find the set of unique line segments composing all the  triangles (★★★) \n",
        "(**hint**: repeat, np.roll, np.sort, view, np.unique)"
      ]
    },
    {
      "cell_type": "code",
      "execution_count": null,
      "metadata": {
        "id": "szeZj_NSFgQ-",
        "colab": {
          "base_uri": "https://localhost:8080/"
        },
        "outputId": "bf8b109e-6f5f-47e3-8c35-a2fcc19ba9c5"
      },
      "outputs": [
        {
          "output_type": "stream",
          "name": "stdout",
          "text": [
            "[( 5, 66) ( 5, 93) ( 7, 53) ( 7, 78) (21, 48) (21, 91) (22, 82) (22, 84) (31, 51) (31, 91) (37, 83) (37, 87) (40, 82) (40, 84) (47, 92) (48, 91) (51, 91) (53, 58) (53, 72) (53, 78) (58, 72) (66, 93) (67, 70) (67, 93) (70, 93) (82, 84) (83, 87) (92, 92)]\n"
          ]
        }
      ],
      "source": [
        "faces = np.random.randint(0,100,(10,3))\n",
        "F = np.roll(faces.repeat(2,axis=1),-1,axis=1)\n",
        "F = F.reshape(len(F)*3,2)\n",
        "F = np.sort(F,axis=1)\n",
        "G = F.view( dtype=[('p0',F.dtype),('p1',F.dtype)] )\n",
        "G = np.unique(G)\n",
        "print(G)\n"
      ]
    },
    {
      "cell_type": "markdown",
      "metadata": {
        "id": "8tvtCMaWFgQ-"
      },
      "source": [
        "#### 74. Given an array C that is a bincount, how to produce an array A such that np.bincount(A) == C? (★★★) \n",
        "(**hint**: np.repeat)"
      ]
    },
    {
      "cell_type": "code",
      "execution_count": null,
      "metadata": {
        "id": "DR0-2ztMFgQ_",
        "colab": {
          "base_uri": "https://localhost:8080/"
        },
        "outputId": "6c86db6e-830f-43cc-8278-4cbf71c6fc26"
      },
      "outputs": [
        {
          "output_type": "stream",
          "name": "stdout",
          "text": [
            "[1 1 2 3 4 4 6]\n"
          ]
        }
      ],
      "source": [
        "C = np.bincount([1,1,2,3,4,4,6])\n",
        "A = np.repeat(np.arange(len(C)), C)\n",
        "print(A)"
      ]
    },
    {
      "cell_type": "markdown",
      "metadata": {
        "id": "kTBWDGiPFgRA"
      },
      "source": [
        "#### 75. How to compute averages using a sliding window over an array? (★★★) \n",
        "(**hint**: np.cumsum)"
      ]
    },
    {
      "cell_type": "code",
      "execution_count": null,
      "metadata": {
        "id": "ISPmuF2MFgRC",
        "colab": {
          "base_uri": "https://localhost:8080/"
        },
        "outputId": "f94e9302-e041-45ec-9b89-ebcee44f8f16"
      },
      "outputs": [
        {
          "output_type": "stream",
          "name": "stdout",
          "text": [
            "[ 1.  2.  3.  4.  5.  6.  7.  8.  9. 10. 11. 12. 13. 14. 15. 16. 17. 18.]\n"
          ]
        }
      ],
      "source": [
        "def moving_average(a, n=3) :\n",
        "    ret = np.cumsum(a, dtype=float)\n",
        "    ret[n:] = ret[n:] - ret[:-n]\n",
        "    return ret[n - 1:] / n\n",
        "Z = np.arange(20)\n",
        "print(moving_average(Z, n=3))"
      ]
    },
    {
      "cell_type": "markdown",
      "metadata": {
        "id": "16Tts4wbFgRD"
      },
      "source": [
        "#### 76. Consider a one-dimensional array Z, build a two-dimensional array whose first row is (Z\\[0\\],Z\\[1\\],Z\\[2\\]) and each subsequent row is  shifted by 1 (last row should be (Z\\[-3\\],Z\\[-2\\],Z\\[-1\\]) (★★★) \n",
        "(**hint**: from numpy.lib import stride_tricks)"
      ]
    },
    {
      "cell_type": "code",
      "execution_count": null,
      "metadata": {
        "id": "MIhpqhSLFgRE",
        "colab": {
          "base_uri": "https://localhost:8080/"
        },
        "outputId": "c510be8b-e2f0-46b3-8144-302bcc70df6f"
      },
      "outputs": [
        {
          "output_type": "stream",
          "name": "stdout",
          "text": [
            "[[0 1 2]\n",
            " [1 2 3]\n",
            " [2 3 4]\n",
            " [3 4 5]\n",
            " [4 5 6]\n",
            " [5 6 7]\n",
            " [6 7 8]\n",
            " [7 8 9]]\n"
          ]
        }
      ],
      "source": [
        "from numpy.lib import stride_tricks\n",
        "\n",
        "def rolling(a, window):\n",
        "    shape = (a.size - window + 1, window)\n",
        "    strides = (a.itemsize, a.itemsize)\n",
        "    return stride_tricks.as_strided(a, shape=shape, strides=strides)\n",
        "Z = rolling(np.arange(10), 3)\n",
        "print(Z)"
      ]
    },
    {
      "cell_type": "markdown",
      "metadata": {
        "id": "Vr-SVb1bFgRG"
      },
      "source": [
        "#### 77. How to negate a boolean, or to change the sign of a float inplace? (★★★) \n",
        "(**hint**: np.logical_not, np.negative)"
      ]
    },
    {
      "cell_type": "code",
      "execution_count": null,
      "metadata": {
        "id": "ityQtO3DFgRH",
        "colab": {
          "base_uri": "https://localhost:8080/"
        },
        "outputId": "0d60b401-6b95-4b9c-c692-9e5fe5c8b6d2"
      },
      "outputs": [
        {
          "output_type": "execute_result",
          "data": {
            "text/plain": [
              "array([ 0.42838343,  0.75977336, -0.08069525,  0.52371934,  0.52725216,  0.49451787,  0.24590984, -0.24094424, -0.0947371 ,  0.41958904,  0.75216139,  0.5922625 , -0.26496392,  0.52686449, -0.22510954, -0.4936674 ,  0.72353238, -0.40686421,  0.06861595, -0.69320814, -0.41656011, -0.27198663,  0.01623228,  0.69667879, -0.74616482,  0.9164074 ,  0.5945078 ,  0.10541428, -0.41727339, -0.61999519, -0.44181692,  0.82984327, -0.72345434,  0.31355083,  0.09510139, -0.30530809, -0.45635382,  0.27320889,  0.08776089, -0.80837881, -0.06889394,  0.31629529, -0.5121397 ,  0.9289244 ,  0.5669942 ,  0.31241179,  0.8196534 ,  0.38730544, -0.61659476,  0.29314773,  0.38455294, -0.21039688, -0.15538561,  0.17568448, -0.82401373, -0.14612933,  0.80949096,  0.99230544,  0.67136927,  0.1055779 , -0.28676212,  0.99984641, -0.27756845,  0.52698063, -0.92815996, -0.59934693,  0.64683256,  0.49643762,  0.63993484, -0.60880454, -0.50685087, -0.06493409, -0.21480081,  0.5801937 , -0.11861545,  0.85549872,  0.29252602,  0.61406684, -0.2386579 ,  0.11602478,  0.24023308, -0.16083727, -0.98492844,  0.95540268,  0.61036737,  0.55196357, -0.0705132 , -0.01677812,  0.0902782 , -0.12998928,  0.86458082, -0.36509328, -0.44941571, -0.83589291, -0.82829966, -0.32236092,  0.07083867,  0.1133391 ,  0.80933366,  0.11775799])"
            ]
          },
          "metadata": {},
          "execution_count": 433
        }
      ],
      "source": [
        "x = np.random.randint(0,2,100)\n",
        "np.logical_not(x, out=x)\n",
        "\n",
        "x = np.random.uniform(-1.0,1.0,100)\n",
        "np.negative(x, out=x)"
      ]
    },
    {
      "cell_type": "markdown",
      "metadata": {
        "id": "NZxZ-moYFgRH"
      },
      "source": [
        "#### 78. Consider 2 sets of points P0,P1 describing lines (2d) and a point p, how to compute distance from p to each line i  (P0\\[i\\],P1\\[i\\])? (★★★)"
      ]
    },
    {
      "cell_type": "code",
      "execution_count": null,
      "metadata": {
        "id": "82mzh-0tFgRI",
        "colab": {
          "base_uri": "https://localhost:8080/"
        },
        "outputId": "47724016-a961-4473-88c3-83ba7173ba3f"
      },
      "outputs": [
        {
          "output_type": "stream",
          "name": "stdout",
          "text": [
            "[ 1.92145821 10.82912639 10.30585336  6.78875005  2.84323817  4.50433856  4.06615347  0.13719322  1.75892167  3.08298256]\n"
          ]
        }
      ],
      "source": [
        "def distance(P0, P1, p):\n",
        "    T = P1 - P0\n",
        "    L = (T**2).sum(axis=1)\n",
        "    U = -((P0[:,0]-p[...,0])*T[:,0] + (P0[:,1]-p[...,1])*T[:,1]) / L\n",
        "    U = U.reshape(len(U),1)\n",
        "    D = P0 + U*T - p\n",
        "    return np.sqrt((D**2).sum(axis=1))\n",
        "\n",
        "P0 = np.random.uniform(-10,10,(10,2))\n",
        "P1 = np.random.uniform(-10,10,(10,2))\n",
        "p  = np.random.uniform(-10,10,( 1,2))\n",
        "print(distance(P0, P1, p))"
      ]
    },
    {
      "cell_type": "markdown",
      "metadata": {
        "id": "K9juS1vtFgRJ"
      },
      "source": [
        "#### 79. Consider 2 sets of points P0,P1 describing lines (2d) and a set of points P, how to compute distance from each point j (P\\[j\\]) to each line i (P0\\[i\\],P1\\[i\\])? (★★★)"
      ]
    },
    {
      "cell_type": "code",
      "execution_count": null,
      "metadata": {
        "id": "MvGz6pyvFgRL",
        "colab": {
          "base_uri": "https://localhost:8080/"
        },
        "outputId": "e1897815-2fec-4d30-aa7a-41d6d308730f"
      },
      "outputs": [
        {
          "output_type": "stream",
          "name": "stdout",
          "text": [
            "[[ 7.00499489  6.95289659  1.16945949  4.55016026  1.0849145   5.4607952   7.77511781  4.14296718 12.78382904  2.40855903]\n",
            " [ 8.17755078  5.10503431  0.25532172  3.30191097  1.11664612  7.84174884  7.64307654  4.78655749 11.58966866  4.78832274]\n",
            " [ 1.50699231  2.56029797  4.2689728   1.18941754  1.73886778  5.56666025  1.24726753 10.51542074  6.96405255  3.09142115]\n",
            " [ 9.3723099   3.8633742   1.11194949  2.59929833  2.71430009  9.71435492  7.85950187  4.9812105  10.93365306  6.63165574]\n",
            " [ 1.97420484  4.31198616  3.50510621  0.79904521  1.03727603  1.72114809  0.40481071 11.2903388   7.24343978  0.58712806]\n",
            " [ 0.8479271   4.33706382 10.83405561  7.53366271  8.49190785 11.07818344  3.0224089  15.86097697  0.69480844  8.95091758]\n",
            " [ 0.2102931   5.09810652 11.69831517  8.42270032  9.07273357 11.30763209  3.91720195 16.78097428  0.20018849  9.25829497]\n",
            " [ 3.68742912 15.74510653  8.50860917 11.24610391 10.90232722  4.35191377 10.09950228  0.24105806 19.2794011   7.55675374]\n",
            " [ 0.94220331  1.58975992  5.30964125  2.24007785  2.55181247  6.02576134  0.29243757 11.54350393  5.91205093  3.63252132]\n",
            " [18.00967293  7.34258303  4.2560523   8.57839278  1.7231923  12.50129555 16.24190915  2.56924193 17.08418366  8.6618723 ]]\n"
          ]
        }
      ],
      "source": [
        "P0 = np.random.uniform(-10, 10, (10,2))\n",
        "P1 = np.random.uniform(-10,10,(10,2))\n",
        "p = np.random.uniform(-10, 10, (10,2))\n",
        "print(np.array([distance(P0,P1,p_i) for p_i in p]))"
      ]
    },
    {
      "cell_type": "markdown",
      "metadata": {
        "id": "wXsRvIciFgRM"
      },
      "source": [
        "#### 80. Consider an arbitrary array, write a function that extract a subpart with a fixed shape and centered on a given element (pad with a `fill` value when necessary) (★★★) \n",
        "(**hint**: minimum, maximum)"
      ]
    },
    {
      "cell_type": "code",
      "execution_count": null,
      "metadata": {
        "id": "G6By0-8RFgRM",
        "colab": {
          "base_uri": "https://localhost:8080/"
        },
        "outputId": "f11853c4-1827-4023-aa51-ff946d3fc914"
      },
      "outputs": [
        {
          "output_type": "stream",
          "name": "stdout",
          "text": [
            "[[7 7 9 8 8 4 3 2 0 0]\n",
            " [6 8 2 6 3 9 5 8 4 2]\n",
            " [1 1 4 6 0 2 7 4 7 0]\n",
            " [1 5 0 2 6 1 7 4 5 4]\n",
            " [1 4 9 2 3 3 9 4 6 4]\n",
            " [1 3 3 9 4 0 4 4 7 6]\n",
            " [7 8 5 1 5 4 6 7 4 5]\n",
            " [2 0 3 2 0 9 9 7 3 4]\n",
            " [0 7 4 2 4 6 8 0 0 4]\n",
            " [5 3 0 2 2 3 3 0 8 0]]\n",
            "[[0 0 0 0 0]\n",
            " [0 7 7 9 8]\n",
            " [0 6 8 2 6]\n",
            " [0 1 1 4 6]\n",
            " [0 1 5 0 2]]\n"
          ]
        },
        {
          "output_type": "stream",
          "name": "stderr",
          "text": [
            "/usr/local/lib/python3.7/dist-packages/ipykernel_launcher.py:23: FutureWarning: Using a non-tuple sequence for multidimensional indexing is deprecated; use `arr[tuple(seq)]` instead of `arr[seq]`. In the future this will be interpreted as an array index, `arr[np.array(seq)]`, which will result either in an error or a different result.\n"
          ]
        }
      ],
      "source": [
        "Z = np.random.randint(0,10,(10,10))\n",
        "shape = (5,5)\n",
        "fill  = 0\n",
        "position = (1,1)\n",
        "\n",
        "R = np.ones(shape, dtype=Z.dtype)*fill\n",
        "P  = np.array(list(position)).astype(int)\n",
        "Rs = np.array(list(R.shape)).astype(int)\n",
        "Zs = np.array(list(Z.shape)).astype(int)\n",
        "\n",
        "R_start = np.zeros((len(shape),)).astype(int)\n",
        "R_stop  = np.array(list(shape)).astype(int)\n",
        "Z_start = (P-Rs//2)\n",
        "Z_stop  = (P+Rs//2)+Rs%2\n",
        "\n",
        "R_start = (R_start - np.minimum(Z_start,0)).tolist()\n",
        "Z_start = (np.maximum(Z_start,0)).tolist()\n",
        "R_stop = np.maximum(R_start, (R_stop - np.maximum(Z_stop-Zs,0))).tolist()\n",
        "Z_stop = (np.minimum(Z_stop,Zs)).tolist()\n",
        "\n",
        "r = [slice(start,stop) for start,stop in zip(R_start,R_stop)]\n",
        "z = [slice(start,stop) for start,stop in zip(Z_start,Z_stop)]\n",
        "R[r] = Z[z]\n",
        "print(Z)\n",
        "print(R)"
      ]
    },
    {
      "cell_type": "markdown",
      "metadata": {
        "id": "5VOeXBhLFgRP"
      },
      "source": [
        "#### 81. Consider an array Z = \\[1,2,3,4,5,6,7,8,9,10,11,12,13,14\\], how to generate an array R = \\[\\[1,2,3,4\\], \\[2,3,4,5\\], \\[3,4,5,6\\], ..., \\[11,12,13,14\\]\\]? (★★★) \n",
        "(**hint**: stride\\_tricks.as\\_strided)"
      ]
    },
    {
      "cell_type": "code",
      "execution_count": null,
      "metadata": {
        "id": "_BaywldYFgRQ",
        "colab": {
          "base_uri": "https://localhost:8080/"
        },
        "outputId": "de221c5e-5651-4249-bf1d-83a4551ede72"
      },
      "outputs": [
        {
          "output_type": "stream",
          "name": "stdout",
          "text": [
            "[[ 1  2  3  4]\n",
            " [ 2  3  4  5]\n",
            " [ 3  4  5  6]\n",
            " [ 4  5  6  7]\n",
            " [ 5  6  7  8]\n",
            " [ 6  7  8  9]\n",
            " [ 7  8  9 10]\n",
            " [ 8  9 10 11]\n",
            " [ 9 10 11 12]\n",
            " [10 11 12 13]\n",
            " [11 12 13 14]]\n"
          ]
        }
      ],
      "source": [
        "Z = np.arange(1,15,dtype=np.uint32)\n",
        "R = stride_tricks.as_strided(Z,(11,4),(4,4))\n",
        "print(R)"
      ]
    },
    {
      "cell_type": "markdown",
      "metadata": {
        "id": "Bu0f6Yx-FgRV"
      },
      "source": [
        "#### 82. Compute a matrix rank (★★★) \n",
        "(**hint**: np.linalg.svd) (suggestion: np.linalg.svd)"
      ]
    },
    {
      "cell_type": "code",
      "execution_count": null,
      "metadata": {
        "id": "0lLiu2NEFgRW",
        "colab": {
          "base_uri": "https://localhost:8080/"
        },
        "outputId": "e79bd515-61cb-43da-fbe8-c971579f94a6"
      },
      "outputs": [
        {
          "output_type": "stream",
          "name": "stdout",
          "text": [
            "10\n"
          ]
        }
      ],
      "source": [
        "Z = np.random.uniform(0,1,(10,10))\n",
        "U, S, V = np.linalg.svd(Z) # Singular Value Decomposition\n",
        "rank = np.sum(S > 1e-10)\n",
        "print(rank)"
      ]
    },
    {
      "cell_type": "markdown",
      "metadata": {
        "id": "BRNWyGaMFgRY"
      },
      "source": [
        "#### 83. How to find the most frequent value in an array? \n",
        "(**hint**: np.bincount, argmax)"
      ]
    },
    {
      "cell_type": "code",
      "execution_count": null,
      "metadata": {
        "id": "kZFQOWkCFgRZ",
        "colab": {
          "base_uri": "https://localhost:8080/"
        },
        "outputId": "080648de-3418-483b-9ef0-79098737f29b"
      },
      "outputs": [
        {
          "output_type": "stream",
          "name": "stdout",
          "text": [
            "2\n"
          ]
        }
      ],
      "source": [
        "aray = np.random.randint(0,10,50)\n",
        "print(np.bincount(aray).argmax())"
      ]
    },
    {
      "cell_type": "markdown",
      "metadata": {
        "id": "TqYJNMnZFgRa"
      },
      "source": [
        "#### 84. Extract all the contiguous 3x3 blocks from a random 10x10 matrix (★★★) \n",
        "(**hint**: stride\\_tricks.as\\_strided)"
      ]
    },
    {
      "cell_type": "code",
      "execution_count": null,
      "metadata": {
        "id": "5zoqiwSiFgRe",
        "colab": {
          "base_uri": "https://localhost:8080/"
        },
        "outputId": "7a3cce2d-9fa6-41c7-f3b5-2ddbea385725"
      },
      "outputs": [
        {
          "output_type": "stream",
          "name": "stdout",
          "text": [
            "[[[[2 1 0]\n",
            "   [0 4 2]\n",
            "   [4 4 0]]\n",
            "\n",
            "  [[1 0 2]\n",
            "   [4 2 3]\n",
            "   [4 0 1]]\n",
            "\n",
            "  [[0 2 4]\n",
            "   [2 3 2]\n",
            "   [0 1 0]]\n",
            "\n",
            "  [[2 4 3]\n",
            "   [3 2 4]\n",
            "   [1 0 3]]\n",
            "\n",
            "  [[4 3 2]\n",
            "   [2 4 3]\n",
            "   [0 3 4]]\n",
            "\n",
            "  [[3 2 3]\n",
            "   [4 3 1]\n",
            "   [3 4 4]]\n",
            "\n",
            "  [[2 3 1]\n",
            "   [3 1 2]\n",
            "   [4 4 2]]\n",
            "\n",
            "  [[3 1 3]\n",
            "   [1 2 2]\n",
            "   [4 2 0]]]\n",
            "\n",
            "\n",
            " [[[0 4 2]\n",
            "   [4 4 0]\n",
            "   [2 1 1]]\n",
            "\n",
            "  [[4 2 3]\n",
            "   [4 0 1]\n",
            "   [1 1 4]]\n",
            "\n",
            "  [[2 3 2]\n",
            "   [0 1 0]\n",
            "   [1 4 3]]\n",
            "\n",
            "  [[3 2 4]\n",
            "   [1 0 3]\n",
            "   [4 3 3]]\n",
            "\n",
            "  [[2 4 3]\n",
            "   [0 3 4]\n",
            "   [3 3 1]]\n",
            "\n",
            "  [[4 3 1]\n",
            "   [3 4 4]\n",
            "   [3 1 3]]\n",
            "\n",
            "  [[3 1 2]\n",
            "   [4 4 2]\n",
            "   [1 3 4]]\n",
            "\n",
            "  [[1 2 2]\n",
            "   [4 2 0]\n",
            "   [3 4 3]]]\n",
            "\n",
            "\n",
            " [[[4 4 0]\n",
            "   [2 1 1]\n",
            "   [1 3 4]]\n",
            "\n",
            "  [[4 0 1]\n",
            "   [1 1 4]\n",
            "   [3 4 1]]\n",
            "\n",
            "  [[0 1 0]\n",
            "   [1 4 3]\n",
            "   [4 1 2]]\n",
            "\n",
            "  [[1 0 3]\n",
            "   [4 3 3]\n",
            "   [1 2 4]]\n",
            "\n",
            "  [[0 3 4]\n",
            "   [3 3 1]\n",
            "   [2 4 1]]\n",
            "\n",
            "  [[3 4 4]\n",
            "   [3 1 3]\n",
            "   [4 1 3]]\n",
            "\n",
            "  [[4 4 2]\n",
            "   [1 3 4]\n",
            "   [1 3 3]]\n",
            "\n",
            "  [[4 2 0]\n",
            "   [3 4 3]\n",
            "   [3 3 0]]]\n",
            "\n",
            "\n",
            " [[[2 1 1]\n",
            "   [1 3 4]\n",
            "   [3 0 3]]\n",
            "\n",
            "  [[1 1 4]\n",
            "   [3 4 1]\n",
            "   [0 3 2]]\n",
            "\n",
            "  [[1 4 3]\n",
            "   [4 1 2]\n",
            "   [3 2 1]]\n",
            "\n",
            "  [[4 3 3]\n",
            "   [1 2 4]\n",
            "   [2 1 0]]\n",
            "\n",
            "  [[3 3 1]\n",
            "   [2 4 1]\n",
            "   [1 0 3]]\n",
            "\n",
            "  [[3 1 3]\n",
            "   [4 1 3]\n",
            "   [0 3 1]]\n",
            "\n",
            "  [[1 3 4]\n",
            "   [1 3 3]\n",
            "   [3 1 2]]\n",
            "\n",
            "  [[3 4 3]\n",
            "   [3 3 0]\n",
            "   [1 2 1]]]\n",
            "\n",
            "\n",
            " [[[1 3 4]\n",
            "   [3 0 3]\n",
            "   [0 1 3]]\n",
            "\n",
            "  [[3 4 1]\n",
            "   [0 3 2]\n",
            "   [1 3 3]]\n",
            "\n",
            "  [[4 1 2]\n",
            "   [3 2 1]\n",
            "   [3 3 1]]\n",
            "\n",
            "  [[1 2 4]\n",
            "   [2 1 0]\n",
            "   [3 1 4]]\n",
            "\n",
            "  [[2 4 1]\n",
            "   [1 0 3]\n",
            "   [1 4 0]]\n",
            "\n",
            "  [[4 1 3]\n",
            "   [0 3 1]\n",
            "   [4 0 1]]\n",
            "\n",
            "  [[1 3 3]\n",
            "   [3 1 2]\n",
            "   [0 1 3]]\n",
            "\n",
            "  [[3 3 0]\n",
            "   [1 2 1]\n",
            "   [1 3 4]]]\n",
            "\n",
            "\n",
            " [[[3 0 3]\n",
            "   [0 1 3]\n",
            "   [1 1 0]]\n",
            "\n",
            "  [[0 3 2]\n",
            "   [1 3 3]\n",
            "   [1 0 0]]\n",
            "\n",
            "  [[3 2 1]\n",
            "   [3 3 1]\n",
            "   [0 0 3]]\n",
            "\n",
            "  [[2 1 0]\n",
            "   [3 1 4]\n",
            "   [0 3 0]]\n",
            "\n",
            "  [[1 0 3]\n",
            "   [1 4 0]\n",
            "   [3 0 1]]\n",
            "\n",
            "  [[0 3 1]\n",
            "   [4 0 1]\n",
            "   [0 1 0]]\n",
            "\n",
            "  [[3 1 2]\n",
            "   [0 1 3]\n",
            "   [1 0 1]]\n",
            "\n",
            "  [[1 2 1]\n",
            "   [1 3 4]\n",
            "   [0 1 0]]]\n",
            "\n",
            "\n",
            " [[[0 1 3]\n",
            "   [1 1 0]\n",
            "   [0 2 4]]\n",
            "\n",
            "  [[1 3 3]\n",
            "   [1 0 0]\n",
            "   [2 4 1]]\n",
            "\n",
            "  [[3 3 1]\n",
            "   [0 0 3]\n",
            "   [4 1 3]]\n",
            "\n",
            "  [[3 1 4]\n",
            "   [0 3 0]\n",
            "   [1 3 3]]\n",
            "\n",
            "  [[1 4 0]\n",
            "   [3 0 1]\n",
            "   [3 3 2]]\n",
            "\n",
            "  [[4 0 1]\n",
            "   [0 1 0]\n",
            "   [3 2 1]]\n",
            "\n",
            "  [[0 1 3]\n",
            "   [1 0 1]\n",
            "   [2 1 1]]\n",
            "\n",
            "  [[1 3 4]\n",
            "   [0 1 0]\n",
            "   [1 1 3]]]\n",
            "\n",
            "\n",
            " [[[1 1 0]\n",
            "   [0 2 4]\n",
            "   [4 4 2]]\n",
            "\n",
            "  [[1 0 0]\n",
            "   [2 4 1]\n",
            "   [4 2 0]]\n",
            "\n",
            "  [[0 0 3]\n",
            "   [4 1 3]\n",
            "   [2 0 3]]\n",
            "\n",
            "  [[0 3 0]\n",
            "   [1 3 3]\n",
            "   [0 3 4]]\n",
            "\n",
            "  [[3 0 1]\n",
            "   [3 3 2]\n",
            "   [3 4 0]]\n",
            "\n",
            "  [[0 1 0]\n",
            "   [3 2 1]\n",
            "   [4 0 0]]\n",
            "\n",
            "  [[1 0 1]\n",
            "   [2 1 1]\n",
            "   [0 0 2]]\n",
            "\n",
            "  [[0 1 0]\n",
            "   [1 1 3]\n",
            "   [0 2 2]]]]\n"
          ]
        }
      ],
      "source": [
        "Z = np.random.randint(0,5,(10,10))\n",
        "n = 3\n",
        "i = 1 + (Z.shape[0]-3)\n",
        "j = 1 + (Z.shape[1]-3)\n",
        "C = stride_tricks.as_strided(Z, shape=(i, j, n, n), strides=Z.strides + Z.strides)\n",
        "print(C)"
      ]
    },
    {
      "cell_type": "markdown",
      "metadata": {
        "id": "_xc1-3RVFgRe"
      },
      "source": [
        "#### 85. Create a 2D array subclass such that Z\\[i,j\\] == Z\\[j,i\\] (★★★) \n",
        "(**hint**: class method)"
      ]
    },
    {
      "cell_type": "code",
      "execution_count": null,
      "metadata": {
        "id": "Kxl4bgi_FgRf",
        "colab": {
          "base_uri": "https://localhost:8080/"
        },
        "outputId": "76fb21f0-ced9-42ec-9a2e-0780fcbca322"
      },
      "outputs": [
        {
          "output_type": "stream",
          "name": "stdout",
          "text": [
            "[[ 6  8 14  6  6]\n",
            " [ 8  2 16 11 12]\n",
            " [14 16  8 42 13]\n",
            " [ 6 11 42  4 18]\n",
            " [ 6 12 13 18  5]]\n"
          ]
        }
      ],
      "source": [
        "class Symetric(np.ndarray):\n",
        "    def __setitem__(self, index, value):\n",
        "        i,j = index\n",
        "        super(Symetric, self).__setitem__((i,j), value)\n",
        "        super(Symetric, self).__setitem__((j,i), value)\n",
        "\n",
        "def symetric(Z):\n",
        "    return np.asarray(Z + Z.T - np.diag(Z.diagonal())).view(Symetric)\n",
        "\n",
        "S = symetric(np.random.randint(0,10,(5,5)))\n",
        "S[2,3] = 42\n",
        "print(S)"
      ]
    },
    {
      "cell_type": "markdown",
      "metadata": {
        "id": "Fl2Uf_J3FgRg"
      },
      "source": [
        "#### 86. Consider a set of p matrices wich shape (n,n) and a set of p vectors with shape (n,1). How to compute the sum of of the p matrix products at once? (result has shape (n,1)) (★★★) \n",
        "(**hint**: np.tensordot)"
      ]
    },
    {
      "cell_type": "code",
      "execution_count": null,
      "metadata": {
        "id": "KzYsFAn1FgRg",
        "colab": {
          "base_uri": "https://localhost:8080/"
        },
        "outputId": "2dd67c69-a9ae-4333-f26a-f8a860a35ef0"
      },
      "outputs": [
        {
          "output_type": "stream",
          "name": "stdout",
          "text": [
            "[[200.]\n",
            " [200.]\n",
            " [200.]\n",
            " [200.]\n",
            " [200.]\n",
            " [200.]\n",
            " [200.]\n",
            " [200.]\n",
            " [200.]\n",
            " [200.]\n",
            " [200.]\n",
            " [200.]\n",
            " [200.]\n",
            " [200.]\n",
            " [200.]\n",
            " [200.]\n",
            " [200.]\n",
            " [200.]\n",
            " [200.]\n",
            " [200.]]\n"
          ]
        }
      ],
      "source": [
        "p, n = 10, 20\n",
        "M = np.ones((p,n,n))\n",
        "V = np.ones((p,n,1))\n",
        "S = np.tensordot(M, V, axes=[[0, 2], [0, 1]])\n",
        "print(S)"
      ]
    },
    {
      "cell_type": "markdown",
      "metadata": {
        "id": "ygIuRVspFgRh"
      },
      "source": [
        "#### 87. Consider a 16x16 array, how to get the block-sum (block size is 4x4)? (★★★) \n",
        "(**hint**: np.add.reduceat)"
      ]
    },
    {
      "cell_type": "code",
      "execution_count": null,
      "metadata": {
        "id": "k6x0cpPvFgRk",
        "colab": {
          "base_uri": "https://localhost:8080/"
        },
        "outputId": "3a2c6821-9a4c-468a-ee07-4aa6e1b036b4"
      },
      "outputs": [
        {
          "output_type": "stream",
          "name": "stdout",
          "text": [
            "[[16. 16. 16. 16.]\n",
            " [16. 16. 16. 16.]\n",
            " [16. 16. 16. 16.]\n",
            " [16. 16. 16. 16.]]\n"
          ]
        }
      ],
      "source": [
        "x = np.ones((16,16))\n",
        "k = 4\n",
        "S = np.add.reduceat(np.add.reduceat(x, np.arange(0, x.shape[0], k), axis=0),\n",
        "                                       np.arange(0, x.shape[1], k), axis=1)\n",
        "print(S)"
      ]
    },
    {
      "cell_type": "markdown",
      "metadata": {
        "id": "Mn_LPPbcFgRl"
      },
      "source": [
        "#### 88. How to implement the Game of Life using numpy arrays? (★★★)"
      ]
    },
    {
      "cell_type": "code",
      "execution_count": null,
      "metadata": {
        "id": "W5_Q8yaGFgRm",
        "colab": {
          "base_uri": "https://localhost:8080/"
        },
        "outputId": "9eea6328-3b91-462a-de79-b119b7181ec1"
      },
      "outputs": [
        {
          "output_type": "stream",
          "name": "stdout",
          "text": [
            "[[0 0 0 0 0 0 0 0 0 0 0 0 0 0 0 0 0 0 0 0 0 0 0 0 0 0 0 0 0 0 0 0 0 0 0 0 0 0 0 0 0 0 0 0 0 0 0 0 0 0]\n",
            " [0 0 0 0 0 0 0 0 0 0 0 0 0 0 0 0 0 0 0 0 0 0 0 0 0 0 0 0 0 0 0 0 0 0 0 0 0 0 0 0 0 0 0 0 0 0 0 0 0 0]\n",
            " [0 0 0 0 0 0 0 0 0 0 0 0 0 0 0 0 0 0 0 0 0 0 0 0 0 0 0 0 0 0 0 0 0 0 0 0 0 0 0 0 0 0 0 0 0 1 1 0 0 0]\n",
            " [0 0 0 0 0 0 0 0 0 0 0 0 0 0 0 0 0 0 0 0 0 0 0 0 0 0 0 0 0 0 0 0 0 0 0 0 0 0 0 0 0 0 0 0 0 1 1 0 0 0]\n",
            " [0 0 0 0 0 0 0 0 0 0 0 0 0 0 0 0 0 0 0 0 0 0 0 0 0 0 0 0 0 0 0 0 0 0 0 0 0 0 0 0 0 0 0 0 0 0 0 0 0 0]\n",
            " [0 0 0 0 0 0 0 0 0 0 0 0 0 0 0 0 0 0 0 0 0 0 0 0 0 0 0 0 0 0 0 0 0 0 0 0 0 0 0 0 0 0 0 0 0 0 0 0 0 0]\n",
            " [0 0 0 0 0 0 0 0 0 0 0 0 0 0 0 0 0 0 0 0 0 0 0 0 0 0 0 0 0 0 0 0 0 0 0 0 0 0 0 0 0 0 0 0 0 0 0 0 0 0]\n",
            " [0 0 0 0 0 0 0 0 0 0 0 0 0 0 0 0 0 0 0 0 0 0 0 0 0 0 0 0 0 0 0 0 0 0 0 0 0 0 0 0 0 0 0 1 0 0 0 0 0 0]\n",
            " [0 0 0 0 0 0 0 0 0 0 0 0 0 0 0 0 0 0 0 0 0 0 0 0 0 0 0 0 0 0 0 0 0 0 0 0 0 1 1 0 0 0 0 0 1 0 0 0 0 0]\n",
            " [0 0 0 0 0 0 0 0 0 0 0 0 0 0 0 0 0 0 0 0 0 0 0 0 0 0 1 0 0 0 0 0 0 0 0 0 1 1 0 1 1 0 0 0 1 0 0 0 0 0]\n",
            " [0 0 0 0 0 0 0 0 0 1 0 0 0 0 0 0 0 0 0 0 0 0 0 0 0 1 0 1 0 0 0 0 0 0 0 0 1 0 0 0 0 1 0 0 0 0 0 0 0 0]\n",
            " [0 0 0 0 0 0 0 0 0 1 0 0 0 0 0 0 0 0 0 0 0 0 0 0 0 0 0 0 1 0 0 0 0 0 0 0 1 0 0 0 0 0 1 0 0 0 0 0 0 0]\n",
            " [0 0 0 0 0 0 0 0 0 0 0 0 0 0 0 0 0 0 0 0 0 0 0 0 0 1 0 1 1 0 0 0 0 0 0 0 0 1 0 1 0 1 0 0 0 0 0 0 0 0]\n",
            " [0 0 0 0 0 0 0 0 0 0 0 1 0 0 0 0 1 1 0 0 0 0 0 0 0 0 0 0 1 0 1 0 0 0 0 0 0 0 1 0 0 0 0 0 0 1 0 0 0 0]\n",
            " [0 0 0 0 0 0 0 0 0 0 0 1 0 0 0 1 0 0 1 0 0 0 0 0 0 0 0 0 1 0 1 0 0 0 0 0 0 0 0 0 0 0 0 0 0 1 1 0 0 0]\n",
            " [0 0 0 0 0 0 0 0 0 0 0 0 0 0 0 0 1 0 1 0 0 0 0 0 0 0 0 0 0 0 0 1 0 0 0 0 0 0 0 1 0 0 0 0 0 1 0 1 0 0]\n",
            " [0 0 0 0 0 0 0 0 0 0 0 0 0 0 0 0 0 1 0 0 0 0 0 0 0 0 0 1 0 0 1 1 0 1 0 0 0 1 1 1 0 0 0 0 0 0 0 0 0 0]\n",
            " [0 0 0 0 0 0 0 0 0 0 0 0 0 0 0 0 0 0 0 0 0 0 0 0 0 0 0 0 1 0 1 0 0 1 1 0 1 1 1 1 0 1 0 1 0 0 0 0 0 0]\n",
            " [0 0 0 0 0 1 1 1 0 0 0 1 1 1 0 0 0 0 0 0 0 0 0 0 0 0 0 0 0 1 0 0 1 1 0 1 0 1 0 0 0 0 0 1 0 0 0 0 0 0]\n",
            " [0 0 0 0 1 1 0 1 0 0 0 1 0 1 1 0 0 0 0 0 0 0 0 0 0 0 0 0 0 0 0 0 0 1 0 1 0 1 1 1 0 0 0 0 0 0 0 0 0 0]\n",
            " [0 0 0 1 1 0 1 0 0 0 0 0 1 0 1 1 0 0 0 0 0 0 0 0 0 0 0 0 1 1 1 1 1 1 1 1 1 0 0 0 0 0 0 0 0 0 0 0 0 0]\n",
            " [0 0 0 1 1 0 1 1 0 1 0 1 1 0 1 0 0 0 0 0 0 0 0 1 0 0 0 0 1 1 0 0 1 1 0 1 0 0 0 0 0 0 0 0 0 0 0 0 0 0]\n",
            " [0 1 1 1 0 1 1 0 1 1 1 0 1 1 0 0 0 0 0 0 0 0 1 1 1 0 0 0 0 0 1 1 1 0 0 0 0 0 0 0 0 0 0 0 0 0 0 0 0 0]\n",
            " [0 1 1 0 0 0 0 1 0 1 0 1 0 0 0 0 0 0 0 0 0 1 1 0 1 1 0 0 0 0 0 0 0 0 0 0 0 0 0 0 0 0 0 0 0 0 0 0 0 0]\n",
            " [0 0 0 0 0 0 0 1 0 1 0 1 0 0 0 0 0 0 0 0 0 0 0 0 0 1 1 0 0 0 0 0 0 0 0 0 0 0 0 0 0 0 0 0 0 0 0 0 0 0]\n",
            " [0 0 0 0 0 0 0 0 1 1 1 0 0 0 0 0 0 0 0 0 0 0 0 0 0 1 1 1 0 0 0 0 0 0 0 0 0 0 0 0 0 0 0 0 0 0 0 0 0 0]\n",
            " [0 0 0 0 0 0 0 0 0 1 0 0 0 0 0 0 0 0 0 0 0 0 0 0 0 1 1 0 0 0 0 0 0 0 0 0 0 0 0 0 0 0 0 0 0 0 0 0 0 0]\n",
            " [0 0 0 0 0 0 0 0 0 0 0 0 0 0 0 0 0 0 0 0 0 1 1 0 1 1 0 0 0 0 0 0 0 0 0 0 0 0 0 0 0 0 0 0 0 0 0 0 0 0]\n",
            " [0 0 0 0 0 0 0 0 0 0 0 0 0 0 0 0 0 0 0 0 0 0 1 1 1 0 0 0 0 0 0 0 0 0 0 0 0 0 0 0 0 0 0 0 0 0 0 0 0 0]\n",
            " [0 0 0 0 0 0 0 0 0 0 0 0 0 0 0 0 0 0 0 0 0 0 0 1 0 0 0 0 0 0 0 0 0 0 0 0 0 0 0 0 0 0 0 0 0 0 0 0 0 0]\n",
            " [0 0 0 0 0 0 0 0 0 0 0 0 0 0 0 0 0 0 0 0 0 0 0 0 0 0 0 0 0 0 0 0 0 0 0 0 0 0 0 0 0 0 0 0 0 0 0 0 0 0]\n",
            " [0 0 0 0 0 0 0 0 0 0 0 0 0 0 0 0 0 0 0 0 0 0 0 0 0 0 0 0 0 0 0 0 0 0 0 0 0 0 0 0 0 0 0 0 0 0 0 0 0 0]\n",
            " [0 0 0 0 0 0 0 0 0 0 0 0 0 0 0 0 0 0 0 0 0 0 0 0 0 0 0 0 0 0 0 0 0 0 0 0 0 0 0 0 0 0 0 0 0 0 0 0 0 0]\n",
            " [0 0 0 0 0 0 0 0 0 0 0 0 0 0 0 0 0 0 0 0 0 0 0 0 0 0 0 0 0 0 0 0 0 0 0 0 0 0 0 0 0 0 0 0 0 0 0 0 0 0]\n",
            " [0 0 0 0 0 0 0 0 0 0 0 0 0 0 0 0 0 0 0 0 0 0 0 0 0 0 0 0 0 0 0 0 0 0 0 0 0 0 0 0 0 0 0 1 1 0 0 0 0 0]\n",
            " [0 0 0 0 0 0 0 0 0 0 0 0 0 0 0 0 0 0 0 0 0 0 0 0 0 0 0 0 0 0 0 0 0 0 0 0 0 0 0 0 0 0 1 0 0 0 1 0 0 0]\n",
            " [0 0 0 0 0 0 0 0 0 0 0 0 0 0 0 0 0 0 0 0 0 0 0 0 0 0 0 0 0 0 0 0 0 1 1 1 0 0 0 0 0 0 1 1 1 0 1 0 0 0]\n",
            " [0 0 0 0 0 0 1 1 0 0 0 0 0 0 0 0 0 0 0 0 0 0 0 0 0 0 0 0 0 0 0 0 0 0 1 1 1 0 0 0 0 0 0 1 1 0 1 1 0 0]\n",
            " [0 0 0 0 0 0 1 1 0 0 0 0 0 0 0 0 0 1 1 1 0 0 0 0 0 0 0 0 0 0 0 0 0 0 0 0 0 0 0 0 0 0 0 0 0 0 0 0 0 0]\n",
            " [0 0 0 0 0 0 0 0 0 0 0 0 0 0 0 0 0 0 0 0 0 0 0 0 0 0 0 0 0 0 0 0 0 0 0 0 0 0 0 0 0 0 0 0 0 0 0 0 0 0]\n",
            " [0 0 0 0 0 0 0 0 0 0 0 0 0 0 0 1 0 0 0 0 0 1 0 0 0 0 0 0 0 0 0 0 0 0 0 0 0 0 0 0 0 0 0 0 0 0 0 0 0 0]\n",
            " [0 0 0 0 0 0 0 0 0 0 0 0 0 0 0 1 0 0 0 0 0 1 0 0 0 0 0 0 0 0 0 0 0 0 0 0 0 0 0 0 0 1 1 0 0 0 0 0 0 0]\n",
            " [0 0 0 0 0 0 0 0 0 0 0 0 0 0 0 1 0 0 0 0 0 1 0 0 0 0 0 0 0 0 0 0 0 0 0 0 0 0 0 0 0 1 1 0 0 0 0 0 0 0]\n",
            " [0 0 0 0 0 0 0 0 0 0 0 0 0 0 0 0 0 0 0 0 0 0 0 0 0 0 0 0 0 0 0 0 0 0 0 0 0 0 0 0 0 1 1 0 0 0 0 0 0 0]\n",
            " [0 0 0 0 0 0 0 0 0 0 0 0 0 0 0 0 0 1 1 1 0 0 0 0 0 0 0 0 0 0 0 0 0 0 0 0 0 0 0 0 0 0 0 1 1 1 0 0 0 0]\n",
            " [0 0 0 0 0 0 0 0 0 0 0 0 0 0 0 0 0 0 0 0 0 0 0 0 0 0 0 0 0 0 0 0 0 0 0 0 0 0 0 0 0 0 0 0 0 0 0 0 0 0]\n",
            " [0 0 0 0 0 0 0 0 1 0 0 0 0 0 0 0 0 0 0 0 0 0 0 0 0 0 0 0 0 0 0 0 0 0 0 0 0 0 0 0 0 0 0 0 0 0 0 0 0 0]\n",
            " [0 0 1 1 0 0 0 1 0 1 0 0 0 0 0 0 0 0 0 0 0 0 0 0 0 0 0 0 0 0 0 0 0 0 0 0 0 0 0 0 0 0 0 0 0 0 0 0 0 0]\n",
            " [0 0 1 1 0 0 0 1 1 0 0 0 0 0 0 0 0 0 0 0 0 0 0 0 0 0 0 0 0 0 0 0 0 0 0 0 0 0 0 0 0 0 0 0 0 0 0 0 0 0]\n",
            " [0 0 0 0 0 0 0 0 0 0 0 0 0 0 0 0 0 0 0 0 0 0 0 0 0 0 0 0 0 0 0 0 0 0 0 0 0 0 0 0 0 0 0 0 0 0 0 0 0 0]]\n"
          ]
        }
      ],
      "source": [
        "def iterate(Z):\n",
        "    N = (Z[0:-2,0:-2] + Z[0:-2,1:-1] + Z[0:-2,2:] +\n",
        "         Z[1:-1,0:-2]                + Z[1:-1,2:] +\n",
        "         Z[2:  ,0:-2] + Z[2:  ,1:-1] + Z[2:  ,2:])\n",
        "\n",
        "    birth = (N==3) & (Z[1:-1,1:-1]==0)\n",
        "    survive = ((N==2) | (N==3)) & (Z[1:-1,1:-1]==1)\n",
        "    Z[...] = 0\n",
        "    Z[1:-1,1:-1][birth | survive] = 1\n",
        "    return Z\n",
        "\n",
        "Z = np.random.randint(0,2,(50,50))\n",
        "for i in range(100): Z = iterate(Z)\n",
        "print(Z)"
      ]
    },
    {
      "cell_type": "markdown",
      "metadata": {
        "id": "-XqTXsUbFgRm"
      },
      "source": [
        "#### 89. How to get the n largest values of an array (★★★) \n",
        "(**hint**: np.argsort | np.argpartition)"
      ]
    },
    {
      "cell_type": "code",
      "execution_count": null,
      "metadata": {
        "id": "228kDQThFgRn",
        "colab": {
          "base_uri": "https://localhost:8080/"
        },
        "outputId": "733c8b9d-ac06-4350-c738-e7f421a0f792"
      },
      "outputs": [
        {
          "output_type": "stream",
          "name": "stdout",
          "text": [
            "[9998 9997 9999 9996 9995]\n"
          ]
        }
      ],
      "source": [
        "x = np.arange(10000)\n",
        "np.random.shuffle(x)\n",
        "n = 5\n",
        "\n",
        "print (x[np.argpartition(-x,n)[:n]])"
      ]
    },
    {
      "cell_type": "markdown",
      "metadata": {
        "id": "kGlHQQepFgRn"
      },
      "source": [
        "#### 90. Given an arbitrary number of vectors, build the cartesian product (every combinations of every item) (★★★) \n",
        "(**hint**: np.indices)"
      ]
    },
    {
      "cell_type": "code",
      "execution_count": null,
      "metadata": {
        "scrolled": true,
        "id": "sYj8pQSEFgRo",
        "colab": {
          "base_uri": "https://localhost:8080/"
        },
        "outputId": "8af4becc-0acc-4f16-cec6-42f2aa3dcfde"
      },
      "outputs": [
        {
          "output_type": "stream",
          "name": "stdout",
          "text": [
            "[[1 4 6]\n",
            " [1 4 7]\n",
            " [1 5 6]\n",
            " [1 5 7]\n",
            " [2 4 6]\n",
            " [2 4 7]\n",
            " [2 5 6]\n",
            " [2 5 7]\n",
            " [3 4 6]\n",
            " [3 4 7]\n",
            " [3 5 6]\n",
            " [3 5 7]]\n"
          ]
        }
      ],
      "source": [
        "def cartesian(arrays):\n",
        "    arrays = [np.asarray(a) for a in arrays]\n",
        "    shape = (len(x) for x in arrays)\n",
        "\n",
        "    ix = np.indices(shape, dtype=int)\n",
        "    ix = ix.reshape(len(arrays), -1).T\n",
        "\n",
        "    for n, arr in enumerate(arrays):\n",
        "        ix[:, n] = arrays[n][ix[:, n]]\n",
        "\n",
        "    return ix\n",
        "\n",
        "print (cartesian(([1, 2, 3], [4, 5], [6, 7])))"
      ]
    },
    {
      "cell_type": "markdown",
      "metadata": {
        "id": "OBaz6OAEFgRo"
      },
      "source": [
        "#### 91. How to create a record array from a regular array? (★★★) \n",
        "(**hint**: np.core.records.fromarrays)"
      ]
    },
    {
      "cell_type": "code",
      "execution_count": null,
      "metadata": {
        "id": "CIowJbqEFgRo",
        "colab": {
          "base_uri": "https://localhost:8080/"
        },
        "outputId": "796162ec-2dc9-44cc-db44-11529564476a"
      },
      "outputs": [
        {
          "output_type": "stream",
          "name": "stdout",
          "text": [
            "[(b'Hello', 2.5, 3) (b'World', 3.6, 2)]\n"
          ]
        }
      ],
      "source": [
        "x = np.array([(\"Hello\", 2.5, 3),\n",
        "              (\"World\", 3.6, 2)])\n",
        "R = np.core.records.fromarrays(x.T, \n",
        "                               names='col1, col2, col3',\n",
        "                               formats = 'S8, f8, i8')\n",
        "print(R)"
      ]
    },
    {
      "cell_type": "markdown",
      "metadata": {
        "id": "TBjZUa9WFgRo"
      },
      "source": [
        "#### 92. Consider a large vector Z, compute Z to the power of 3 using 3 different methods (★★★) \n",
        "(**hint**: np.power, \\*, np.einsum)"
      ]
    },
    {
      "cell_type": "code",
      "execution_count": null,
      "metadata": {
        "id": "Yqlr-JHBFgRp",
        "colab": {
          "base_uri": "https://localhost:8080/"
        },
        "outputId": "db5cbfdb-b289-495b-a409-c668ec8d5673"
      },
      "outputs": [
        {
          "output_type": "stream",
          "name": "stdout",
          "text": [
            "The slowest run took 24.78 times longer than the fastest. This could mean that an intermediate result is being cached.\n",
            "100000 loops, best of 5: 2.11 µs per loop\n",
            "The slowest run took 17.47 times longer than the fastest. This could mean that an intermediate result is being cached.\n",
            "1000000 loops, best of 5: 1.13 µs per loop\n",
            "The slowest run took 18.87 times longer than the fastest. This could mean that an intermediate result is being cached.\n",
            "100000 loops, best of 5: 3.09 µs per loop\n"
          ]
        }
      ],
      "source": [
        "x = np.random.rand(5)\n",
        "\n",
        "%timeit np.power(x,3)\n",
        "%timeit x*x*x\n",
        "%timeit np.einsum('i,i,i->i',x,x,x)"
      ]
    },
    {
      "cell_type": "markdown",
      "metadata": {
        "id": "7BnF6XwdFgRp"
      },
      "source": [
        "#### 93. Consider two arrays A and B of shape (8,3) and (2,2). How to find rows of A that contain elements of each row of B regardless of the order of the elements in B? (★★★) \n",
        "(**hint**: np.where)"
      ]
    },
    {
      "cell_type": "code",
      "execution_count": null,
      "metadata": {
        "id": "qA11lQwGFgRp",
        "colab": {
          "base_uri": "https://localhost:8080/"
        },
        "outputId": "bea7aa97-fdea-4dd9-e2c5-976b7d76ae81"
      },
      "outputs": [
        {
          "output_type": "stream",
          "name": "stdout",
          "text": [
            "[0 2 3 4 5 7]\n"
          ]
        }
      ],
      "source": [
        "A = np.random.randint(0,5,(8,3))\n",
        "B = np.random.randint(0,5,(2,2))\n",
        "\n",
        "C = (A[..., np.newaxis, np.newaxis] == B)\n",
        "rows = np.where(C.any((3,1)).all(1))[0]\n",
        "print(rows)\n"
      ]
    },
    {
      "cell_type": "markdown",
      "metadata": {
        "id": "kdryeltDFgRp"
      },
      "source": [
        "#### 94. Considering a 10x3 matrix, extract rows with unequal values (e.g. \\[2,2,3\\]) (★★★)"
      ]
    },
    {
      "cell_type": "code",
      "execution_count": null,
      "metadata": {
        "id": "O6a_4rOGFgRp",
        "colab": {
          "base_uri": "https://localhost:8080/"
        },
        "outputId": "ebb43e93-a46e-4c10-e660-5f56383d3d9b"
      },
      "outputs": [
        {
          "output_type": "stream",
          "name": "stdout",
          "text": [
            "[[0 0 3]\n",
            " [4 2 2]\n",
            " [4 1 3]\n",
            " [4 2 4]\n",
            " [1 0 0]\n",
            " [0 3 4]\n",
            " [4 4 2]\n",
            " [3 1 3]\n",
            " [0 0 0]\n",
            " [4 2 2]]\n",
            "[[0 0 3]\n",
            " [4 2 2]\n",
            " [4 1 3]\n",
            " [4 2 4]\n",
            " [1 0 0]\n",
            " [0 3 4]\n",
            " [4 4 2]\n",
            " [3 1 3]\n",
            " [4 2 2]]\n"
          ]
        }
      ],
      "source": [
        "x = np.random.randint(0,5,(10,3))\n",
        "print(x)\n",
        "E = np.all(x[:,1:] == x[:,:-1], axis=1)\n",
        "U = x[~E]\n",
        "print(U)"
      ]
    },
    {
      "cell_type": "markdown",
      "metadata": {
        "id": "-9PRpd1-FgRq"
      },
      "source": [
        "#### 95. Convert a vector of ints into a matrix binary representation (★★★) \n",
        "(**hint**: np.unpackbits)"
      ]
    },
    {
      "cell_type": "code",
      "execution_count": null,
      "metadata": {
        "id": "SM1Q1GRdFgRq",
        "colab": {
          "base_uri": "https://localhost:8080/"
        },
        "outputId": "264826a3-ccf5-4a5f-9ffe-e9905169c4d4"
      },
      "outputs": [
        {
          "output_type": "stream",
          "name": "stdout",
          "text": [
            "[[0 0 0 0 0 0 0 0]\n",
            " [0 0 0 0 0 0 0 1]\n",
            " [0 0 0 0 0 0 1 0]\n",
            " [0 0 0 0 0 0 1 1]\n",
            " [0 0 0 0 1 1 1 1]\n",
            " [0 0 0 1 0 0 0 0]\n",
            " [0 0 1 0 0 0 0 0]\n",
            " [0 1 0 0 0 0 0 0]\n",
            " [1 0 0 0 0 0 0 0]]\n",
            "[[0 0 0 0 0 0 0 0]\n",
            " [0 0 0 0 0 0 0 1]\n",
            " [0 0 0 0 0 0 1 0]\n",
            " [0 0 0 0 0 0 1 1]\n",
            " [0 0 0 0 1 1 1 1]\n",
            " [0 0 0 1 0 0 0 0]\n",
            " [0 0 1 0 0 0 0 0]\n",
            " [0 1 0 0 0 0 0 0]\n",
            " [1 0 0 0 0 0 0 0]]\n"
          ]
        }
      ],
      "source": [
        "I = np.array([0, 1, 2, 3, 15, 16, 32, 64, 128])\n",
        "B = ((I.reshape(-1,1) & (2**np.arange(8))) != 0).astype(int)\n",
        "print(B[:,::-1])\n",
        "\n",
        "I = np.array([0, 1, 2, 3, 15, 16, 32, 64, 128], dtype=np.uint8)\n",
        "print(np.unpackbits(I[:, np.newaxis], axis=1))"
      ]
    },
    {
      "cell_type": "markdown",
      "metadata": {
        "id": "3GcGUMtSFgRq"
      },
      "source": [
        "#### 96. Given a two dimensional array, how to extract unique rows? (★★★) \n",
        "(**hint**: np.ascontiguousarray)"
      ]
    },
    {
      "cell_type": "code",
      "execution_count": null,
      "metadata": {
        "id": "sHeMzev9FgRq",
        "colab": {
          "base_uri": "https://localhost:8080/"
        },
        "outputId": "4d1782b4-1691-4bb9-d885-dcf729ec8cdc"
      },
      "outputs": [
        {
          "output_type": "stream",
          "name": "stdout",
          "text": [
            "[[0 0 0]\n",
            " [0 0 1]\n",
            " [0 1 0]\n",
            " [1 0 0]\n",
            " [1 0 1]]\n"
          ]
        }
      ],
      "source": [
        "Z = np.random.randint(0,2,(6,3))\n",
        "T = np.ascontiguousarray(Z).view(np.dtype((np.void, Z.dtype.itemsize * Z.shape[1])))\n",
        "_, idx = np.unique(T, return_index=True)\n",
        "uZ = Z[idx]\n",
        "print(uZ)\n"
      ]
    },
    {
      "cell_type": "markdown",
      "metadata": {
        "id": "FBcSkodnFgRr"
      },
      "source": [
        "#### 97. Considering 2 vectors A & B, write the einsum equivalent of inner, outer, sum, and mul function (★★★) \n",
        "(**hint**: np.einsum)"
      ]
    },
    {
      "cell_type": "code",
      "execution_count": null,
      "metadata": {
        "id": "K237WPHaFgRr",
        "colab": {
          "base_uri": "https://localhost:8080/"
        },
        "outputId": "1087d49a-68f6-43ea-c91f-4b3501bf4c07"
      },
      "outputs": [
        {
          "output_type": "execute_result",
          "data": {
            "text/plain": [
              "array([[2.79753306e-01, 2.93633500e-01, 9.36209639e-02, 1.26096264e-01, 1.84525815e-01, 7.76563878e-03, 3.37563804e-01, 3.01230036e-01, 2.00517903e-01, 3.41828194e-01],\n",
              "       [3.67875539e-01, 3.86127992e-01, 1.23111548e-01, 1.65816561e-01, 2.42651408e-01, 1.02118134e-02, 4.43896332e-01, 3.96117435e-01, 2.63681001e-01, 4.49504004e-01],\n",
              "       [3.53175699e-01, 3.70698808e-01, 1.18192167e-01, 1.59190741e-01, 2.32955366e-01, 9.80376228e-03, 4.26158798e-01, 3.80289085e-01, 2.53144643e-01, 4.31542394e-01],\n",
              "       [6.21180151e-02, 6.52000524e-02, 2.07881313e-02, 2.79991316e-02, 4.09731614e-02, 1.72432660e-03, 7.49545869e-02, 6.68868304e-02, 4.45241357e-02, 7.59014762e-02],\n",
              "       [6.14689254e-01, 6.45187577e-01, 2.05709099e-01, 2.77065603e-01, 4.05450206e-01, 1.70630860e-02, 7.41713641e-01, 6.61879100e-01, 4.40588897e-01, 7.51083591e-01],\n",
              "       [5.98491143e-01, 6.28185782e-01, 2.00288313e-01, 2.69764451e-01, 3.94765901e-01, 1.66134445e-02, 7.22168220e-01, 6.44437455e-01, 4.28978627e-01, 7.31291256e-01],\n",
              "       [4.37093410e-02, 4.58780166e-02, 1.46275685e-02, 1.97015888e-02, 2.88307649e-02, 1.21332241e-03, 5.27417947e-02, 4.70649179e-02, 3.13294079e-02, 5.34080734e-02],\n",
              "       [6.81247166e-01, 7.15047815e-01, 2.27983066e-01, 3.07065978e-01, 4.49351932e-01, 1.89106591e-02, 8.22025620e-01, 7.33546679e-01, 4.88295404e-01, 8.32410139e-01],\n",
              "       [2.34138036e-02, 2.45754991e-02, 7.83555661e-03, 1.05535595e-02, 1.54437896e-02, 6.49940994e-04, 2.82522224e-02, 2.52112871e-02, 1.67822389e-02, 2.86091283e-02],\n",
              "       [5.36374240e-01, 5.62986898e-01, 1.79500554e-01, 2.41765821e-01, 3.53793474e-01, 1.48891488e-02, 6.47214975e-01, 5.77551823e-01, 3.84455289e-01, 6.55391139e-01]])"
            ]
          },
          "metadata": {},
          "execution_count": 453
        }
      ],
      "source": [
        "A = np.random.uniform(0,1,10)\n",
        "B = np.random.uniform(0,1,10)\n",
        "\n",
        "np.einsum('i->', A)       \n",
        "np.einsum('i,i->i', A, B) \n",
        "np.einsum('i,i', A, B)    \n",
        "np.einsum('i,j->ij', A, B)   "
      ]
    },
    {
      "cell_type": "markdown",
      "metadata": {
        "id": "DcN6NNtOFgRr"
      },
      "source": [
        "#### 98. Considering a path described by two vectors (X,Y), how to sample it using equidistant samples (★★★)? \n",
        "(**hint**: np.cumsum, np.interp)"
      ]
    },
    {
      "cell_type": "code",
      "execution_count": null,
      "metadata": {
        "collapsed": true,
        "id": "W33lz-POFgRr"
      },
      "outputs": [],
      "source": [
        "phi = np.arange(0, 10*np.pi, 0.1)\n",
        "a = 1\n",
        "x = a*phi*np.cos(phi)\n",
        "y = a*phi*np.sin(phi)\n",
        "\n",
        "dr = (np.diff(x)**2 + np.diff(y)**2)**.5 \n",
        "r = np.zeros_like(x)\n",
        "r[1:] = np.cumsum(dr)                \n",
        "r_int = np.linspace(0, r.max(), 200) \n",
        "x_int = np.interp(r_int, r, x)       \n",
        "y_int = np.interp(r_int, r, y)"
      ]
    },
    {
      "cell_type": "markdown",
      "metadata": {
        "id": "qBkWt_WBFgRt"
      },
      "source": [
        "#### 99. Given an integer n and a 2D array X, select from X the rows which can be interpreted as draws from a multinomial distribution with n degrees, i.e., the rows which only contain integers and which sum to n. (★★★) \n",
        "(**hint**: np.logical\\_and.reduce, np.mod)"
      ]
    },
    {
      "cell_type": "code",
      "execution_count": null,
      "metadata": {
        "id": "VyA3JtIvFgRv",
        "colab": {
          "base_uri": "https://localhost:8080/"
        },
        "outputId": "c85ec83a-6831-40aa-bbea-db2d15feff36"
      },
      "outputs": [
        {
          "output_type": "stream",
          "name": "stdout",
          "text": [
            "[[2. 0. 1. 1.]]\n"
          ]
        }
      ],
      "source": [
        "X = np.asarray([[1.0, 0.0, 3.0, 8.0],\n",
        "                [2.0, 0.0, 1.0, 1.0],\n",
        "                [1.5, 2.5, 1.0, 0.0]])\n",
        "n = 4\n",
        "M = np.logical_and.reduce(np.mod(X, 1) == 0, axis=-1)\n",
        "M &= (X.sum(axis=-1) == n)\n",
        "print(X[M])"
      ]
    },
    {
      "cell_type": "markdown",
      "metadata": {
        "id": "BCckWNRUFgRx"
      },
      "source": [
        "#### 100. Compute bootstrapped 95% confidence intervals for the mean of a 1D array X (i.e., resample the elements of an array with replacement N times, compute the mean of each sample, and then compute percentiles over the means). (★★★) \n",
        "(**hint**: np.percentile)"
      ]
    },
    {
      "cell_type": "code",
      "execution_count": null,
      "metadata": {
        "id": "1K7oUqM-FgRz",
        "colab": {
          "base_uri": "https://localhost:8080/"
        },
        "outputId": "36a81174-4de9-4541-cdd9-e3a38d561737"
      },
      "outputs": [
        {
          "output_type": "stream",
          "name": "stdout",
          "text": [
            "[-0.19929235  0.20602486]\n"
          ]
        }
      ],
      "source": [
        "X = np.random.randn(100) \n",
        "N = 1000\n",
        "idx = np.random.randint(0, X.size, (N, X.size))\n",
        "means = X[idx].mean(axis=1)\n",
        "confint = np.percentile(means, [2.5, 97.5])\n",
        "print(confint)"
      ]
    }
  ],
  "metadata": {
    "kernelspec": {
      "display_name": "Python 3",
      "language": "python",
      "name": "python3"
    },
    "language_info": {
      "codemirror_mode": {
        "name": "ipython",
        "version": 3
      },
      "file_extension": ".py",
      "mimetype": "text/x-python",
      "name": "python",
      "nbconvert_exporter": "python",
      "pygments_lexer": "ipython3",
      "version": "3.8.3"
    },
    "colab": {
      "name": "Numpy_tasks.ipynb",
      "provenance": [],
      "collapsed_sections": []
    }
  },
  "nbformat": 4,
  "nbformat_minor": 0
}